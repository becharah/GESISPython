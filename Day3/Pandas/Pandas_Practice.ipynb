{
 "cells": [
  {
   "cell_type": "markdown",
   "id": "b31c6b61",
   "metadata": {},
   "source": [
    "### Preamble\n",
    "\n",
    "Import Pandas and Matplotlib.pyplot and numpy"
   ]
  },
  {
   "cell_type": "code",
   "execution_count": null,
   "id": "1308df6c",
   "metadata": {},
   "outputs": [],
   "source": []
  },
  {
   "cell_type": "markdown",
   "id": "ba4d6133",
   "metadata": {},
   "source": [
    "Write a Pandas program to create a dataframe from a dictionary and display it.\n",
    "\n",
    "Sample data: {'X':[78,85,96,80,86], 'Y':[84,94,89,83,86],'Z':[86,97,96,72,83]}"
   ]
  },
  {
   "cell_type": "code",
   "execution_count": null,
   "id": "0252cbc2",
   "metadata": {},
   "outputs": [],
   "source": []
  },
  {
   "cell_type": "code",
   "execution_count": null,
   "id": "66cef3ab",
   "metadata": {},
   "outputs": [],
   "source": []
  },
  {
   "cell_type": "markdown",
   "id": "98f71627",
   "metadata": {},
   "source": [
    "Write a Pandas program to create and display a DataFrame from a specified dictionary data which has the index labels.\n",
    "\n"
   ]
  },
  {
   "cell_type": "code",
   "execution_count": 1,
   "id": "994098ce",
   "metadata": {
    "collapsed": true
   },
   "outputs": [
    {
     "ename": "NameError",
     "evalue": "name 'np' is not defined",
     "output_type": "error",
     "traceback": [
      "\u001b[1;31m---------------------------------------------------------------------------\u001b[0m",
      "\u001b[1;31mNameError\u001b[0m                                 Traceback (most recent call last)",
      "Input \u001b[1;32mIn [1]\u001b[0m, in \u001b[0;36m<cell line: 2>\u001b[1;34m()\u001b[0m\n\u001b[0;32m      1\u001b[0m \u001b[38;5;66;03m# Sample Python dictionary data and list labels:\u001b[39;00m\n\u001b[0;32m      2\u001b[0m exam_data \u001b[38;5;241m=\u001b[39m {\u001b[38;5;124m'\u001b[39m\u001b[38;5;124mname\u001b[39m\u001b[38;5;124m'\u001b[39m: [\u001b[38;5;124m'\u001b[39m\u001b[38;5;124mAnastasia\u001b[39m\u001b[38;5;124m'\u001b[39m, \u001b[38;5;124m'\u001b[39m\u001b[38;5;124mDima\u001b[39m\u001b[38;5;124m'\u001b[39m, \u001b[38;5;124m'\u001b[39m\u001b[38;5;124mKatherine\u001b[39m\u001b[38;5;124m'\u001b[39m, \u001b[38;5;124m'\u001b[39m\u001b[38;5;124mJames\u001b[39m\u001b[38;5;124m'\u001b[39m, \u001b[38;5;124m'\u001b[39m\u001b[38;5;124mEmily\u001b[39m\u001b[38;5;124m'\u001b[39m, \u001b[38;5;124m'\u001b[39m\u001b[38;5;124mMichael\u001b[39m\u001b[38;5;124m'\u001b[39m, \u001b[38;5;124m'\u001b[39m\u001b[38;5;124mMatthew\u001b[39m\u001b[38;5;124m'\u001b[39m, \u001b[38;5;124m'\u001b[39m\u001b[38;5;124mLaura\u001b[39m\u001b[38;5;124m'\u001b[39m, \u001b[38;5;124m'\u001b[39m\u001b[38;5;124mKevin\u001b[39m\u001b[38;5;124m'\u001b[39m, \u001b[38;5;124m'\u001b[39m\u001b[38;5;124mJonas\u001b[39m\u001b[38;5;124m'\u001b[39m], \n\u001b[1;32m----> 3\u001b[0m              \u001b[38;5;124m'\u001b[39m\u001b[38;5;124mscore\u001b[39m\u001b[38;5;124m'\u001b[39m: [\u001b[38;5;241m12.5\u001b[39m, \u001b[38;5;241m9\u001b[39m, \u001b[38;5;241m16.5\u001b[39m, \u001b[43mnp\u001b[49m\u001b[38;5;241m.\u001b[39mnan, \u001b[38;5;241m9\u001b[39m, \u001b[38;5;241m20\u001b[39m, \u001b[38;5;241m14.5\u001b[39m, np\u001b[38;5;241m.\u001b[39mnan, \u001b[38;5;241m8\u001b[39m, \u001b[38;5;241m19\u001b[39m],\n\u001b[0;32m      4\u001b[0m              \u001b[38;5;124m'\u001b[39m\u001b[38;5;124mattempts\u001b[39m\u001b[38;5;124m'\u001b[39m: [\u001b[38;5;241m1\u001b[39m, \u001b[38;5;241m3\u001b[39m, \u001b[38;5;241m2\u001b[39m, \u001b[38;5;241m3\u001b[39m, \u001b[38;5;241m2\u001b[39m, \u001b[38;5;241m3\u001b[39m, \u001b[38;5;241m1\u001b[39m, \u001b[38;5;241m1\u001b[39m, \u001b[38;5;241m2\u001b[39m, \u001b[38;5;241m1\u001b[39m],\n\u001b[0;32m      5\u001b[0m              \u001b[38;5;124m'\u001b[39m\u001b[38;5;124mqualify\u001b[39m\u001b[38;5;124m'\u001b[39m: [\u001b[38;5;124m'\u001b[39m\u001b[38;5;124myes\u001b[39m\u001b[38;5;124m'\u001b[39m, \u001b[38;5;124m'\u001b[39m\u001b[38;5;124mno\u001b[39m\u001b[38;5;124m'\u001b[39m, \u001b[38;5;124m'\u001b[39m\u001b[38;5;124myes\u001b[39m\u001b[38;5;124m'\u001b[39m, \u001b[38;5;124m'\u001b[39m\u001b[38;5;124mno\u001b[39m\u001b[38;5;124m'\u001b[39m, \u001b[38;5;124m'\u001b[39m\u001b[38;5;124mno\u001b[39m\u001b[38;5;124m'\u001b[39m, \u001b[38;5;124m'\u001b[39m\u001b[38;5;124myes\u001b[39m\u001b[38;5;124m'\u001b[39m, \u001b[38;5;124m'\u001b[39m\u001b[38;5;124myes\u001b[39m\u001b[38;5;124m'\u001b[39m, \u001b[38;5;124m'\u001b[39m\u001b[38;5;124mno\u001b[39m\u001b[38;5;124m'\u001b[39m, \u001b[38;5;124m'\u001b[39m\u001b[38;5;124mno\u001b[39m\u001b[38;5;124m'\u001b[39m, \u001b[38;5;124m'\u001b[39m\u001b[38;5;124myes\u001b[39m\u001b[38;5;124m'\u001b[39m]}\n\u001b[0;32m      6\u001b[0m labels \u001b[38;5;241m=\u001b[39m [\u001b[38;5;124m'\u001b[39m\u001b[38;5;124ma\u001b[39m\u001b[38;5;124m'\u001b[39m, \u001b[38;5;124m'\u001b[39m\u001b[38;5;124mb\u001b[39m\u001b[38;5;124m'\u001b[39m, \u001b[38;5;124m'\u001b[39m\u001b[38;5;124mc\u001b[39m\u001b[38;5;124m'\u001b[39m, \u001b[38;5;124m'\u001b[39m\u001b[38;5;124md\u001b[39m\u001b[38;5;124m'\u001b[39m, \u001b[38;5;124m'\u001b[39m\u001b[38;5;124me\u001b[39m\u001b[38;5;124m'\u001b[39m, \u001b[38;5;124m'\u001b[39m\u001b[38;5;124mf\u001b[39m\u001b[38;5;124m'\u001b[39m, \u001b[38;5;124m'\u001b[39m\u001b[38;5;124mg\u001b[39m\u001b[38;5;124m'\u001b[39m, \u001b[38;5;124m'\u001b[39m\u001b[38;5;124mh\u001b[39m\u001b[38;5;124m'\u001b[39m, \u001b[38;5;124m'\u001b[39m\u001b[38;5;124mi\u001b[39m\u001b[38;5;124m'\u001b[39m, \u001b[38;5;124m'\u001b[39m\u001b[38;5;124mj\u001b[39m\u001b[38;5;124m'\u001b[39m]\n",
      "\u001b[1;31mNameError\u001b[0m: name 'np' is not defined"
     ]
    }
   ],
   "source": [
    "# Sample Python dictionary data and list labels:\n",
    "exam_data = {'name': ['Anastasia', 'Dima', 'Katherine', 'James', 'Emily', 'Michael', 'Matthew', 'Laura', 'Kevin', 'Jonas'], \n",
    "             'score': [12.5, 9, 16.5, np.nan, 9, 20, 14.5, np.nan, 8, 19],\n",
    "             'attempts': [1, 3, 2, 3, 2, 3, 1, 1, 2, 1],\n",
    "             'qualify': ['yes', 'no', 'yes', 'no', 'no', 'yes', 'yes', 'no', 'no', 'yes']}\n",
    "labels = ['a', 'b', 'c', 'd', 'e', 'f', 'g', 'h', 'i', 'j']"
   ]
  },
  {
   "cell_type": "markdown",
   "id": "59e213e7",
   "metadata": {},
   "source": []
  },
  {
   "cell_type": "markdown",
   "id": "9e0a0e44",
   "metadata": {},
   "source": [
    "### Load the alphabet_stock_dataset.csv into a dataframe\n",
    "\n",
    "This is the url you will need: \n",
    "url = \"https://raw.githubusercontent.com/becharah/GESISPython/main/Day3/Pandas/alphabet_stock_data.csv\""
   ]
  },
  {
   "cell_type": "code",
   "execution_count": null,
   "id": "7fa7d178",
   "metadata": {},
   "outputs": [],
   "source": []
  },
  {
   "cell_type": "markdown",
   "id": "a3f3bc17",
   "metadata": {},
   "source": [
    "### Here is a quick description of the dataset\n",
    "\n",
    "Date: It gives the date of which stocks details are given.\n",
    "Open: It gives the opening price of stock on that date.\n",
    "High: It gives the highest price to which the stock ascended on that day.\n",
    "Low: It gives the highest price to which the stock plummeted on that day.\n",
    "Close: It gives the closing price of stock on that date.\n",
    "Volume: It gives the amount of stock traded on that date.\n",
    "Adjusted Close: An adjusted closing price is a stock's closing price on any given day of trading that has been amended to include any distributions and corporate actions that occurred at any time prior to the next day's open."
   ]
  },
  {
   "cell_type": "markdown",
   "id": "7194e5eb",
   "metadata": {},
   "source": [
    "### Write a Pandas program to detect missing values of this dataframe."
   ]
  },
  {
   "cell_type": "code",
   "execution_count": null,
   "id": "f68cff8d",
   "metadata": {},
   "outputs": [],
   "source": []
  },
  {
   "cell_type": "markdown",
   "id": "bce292b8",
   "metadata": {},
   "source": [
    "### Write a Pandas program to find and replace the missing values which do not have any valuable information."
   ]
  },
  {
   "cell_type": "code",
   "execution_count": null,
   "id": "4779617e",
   "metadata": {},
   "outputs": [],
   "source": []
  },
  {
   "cell_type": "markdown",
   "id": "7d378253",
   "metadata": {},
   "source": [
    "### Write a Pandas program to identify the column(s) of a given DataFrame which have at least one missing value."
   ]
  },
  {
   "cell_type": "code",
   "execution_count": null,
   "id": "e0d61a7a",
   "metadata": {},
   "outputs": [],
   "source": []
  },
  {
   "cell_type": "markdown",
   "id": "b710fd34",
   "metadata": {},
   "source": [
    "### Write a Pandas program to drop the columns where at least one element is missing in a given DataFrame."
   ]
  },
  {
   "cell_type": "code",
   "execution_count": null,
   "id": "84d8369f",
   "metadata": {},
   "outputs": [],
   "source": []
  },
  {
   "cell_type": "markdown",
   "id": "06a4d749",
   "metadata": {},
   "source": [
    "### Write a Pandas program to drop the rows where all elements are missing in a given DataFrame."
   ]
  },
  {
   "cell_type": "code",
   "execution_count": null,
   "id": "4ef6984e",
   "metadata": {},
   "outputs": [],
   "source": []
  },
  {
   "cell_type": "markdown",
   "id": "1580336d",
   "metadata": {},
   "source": [
    "### Write a Pandas Program to create a line plot of the historical stock prices of Alphabet Inc between two specific dates"
   ]
  },
  {
   "cell_type": "code",
   "execution_count": null,
   "id": "ffa14c40",
   "metadata": {},
   "outputs": [],
   "source": []
  },
  {
   "cell_type": "markdown",
   "id": "84d73ad9",
   "metadata": {},
   "source": [
    "### Write a Pandas program to create a bar plot of the trading volume of Alphabet Inc. stock between two specific dates."
   ]
  },
  {
   "cell_type": "code",
   "execution_count": null,
   "id": "dd6e486e",
   "metadata": {},
   "outputs": [],
   "source": []
  },
  {
   "cell_type": "markdown",
   "id": "9298dbe3",
   "metadata": {},
   "source": [
    "### Write a Pandas program to create a scatter plot of the trading volume/stock prices of Alphabet Inc. stock between two specific dates."
   ]
  },
  {
   "cell_type": "code",
   "execution_count": null,
   "id": "fb0f2f06",
   "metadata": {},
   "outputs": [],
   "source": []
  },
  {
   "cell_type": "markdown",
   "id": "05811ee9",
   "metadata": {},
   "source": []
  }
 ],
 "metadata": {
  "kernelspec": {
   "display_name": "Python 3 (ipykernel)",
   "language": "python",
   "name": "python3"
  },
  "language_info": {
   "codemirror_mode": {
    "name": "ipython",
    "version": 3
   },
   "file_extension": ".py",
   "mimetype": "text/x-python",
   "name": "python",
   "nbconvert_exporter": "python",
   "pygments_lexer": "ipython3",
   "version": "3.9.12"
  }
 },
 "nbformat": 4,
 "nbformat_minor": 5
}
