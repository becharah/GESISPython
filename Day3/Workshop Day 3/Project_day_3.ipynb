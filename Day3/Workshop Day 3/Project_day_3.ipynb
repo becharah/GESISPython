{
 "cells": [
  {
   "cell_type": "markdown",
   "metadata": {},
   "source": [
    "# Project Day 3\n",
    "\n",
    "We begin by importing our dataframe"
   ]
  },
  {
   "cell_type": "code",
   "execution_count": 164,
   "metadata": {},
   "outputs": [],
   "source": [
    "import pandas as pd\n",
    "url = \"https://raw.githubusercontent.com/becharah/GESISPython/main/Project/Climate_twitter.csv\"\n",
    "data = pd.read_csv(url)"
   ]
  },
  {
   "cell_type": "markdown",
   "metadata": {},
   "source": [
    "First step, let's explore our dataset"
   ]
  },
  {
   "cell_type": "code",
   "execution_count": 118,
   "metadata": {},
   "outputs": [
    {
     "data": {
      "text/html": [
       "<div>\n",
       "<style scoped>\n",
       "    .dataframe tbody tr th:only-of-type {\n",
       "        vertical-align: middle;\n",
       "    }\n",
       "\n",
       "    .dataframe tbody tr th {\n",
       "        vertical-align: top;\n",
       "    }\n",
       "\n",
       "    .dataframe thead th {\n",
       "        text-align: right;\n",
       "    }\n",
       "</style>\n",
       "<table border=\"1\" class=\"dataframe\">\n",
       "  <thead>\n",
       "    <tr style=\"text-align: right;\">\n",
       "      <th></th>\n",
       "      <th>id</th>\n",
       "      <th>retweets</th>\n",
       "      <th>likes</th>\n",
       "      <th>verified</th>\n",
       "      <th>followers</th>\n",
       "      <th>friends</th>\n",
       "      <th>subjectivity</th>\n",
       "    </tr>\n",
       "  </thead>\n",
       "  <tbody>\n",
       "    <tr>\n",
       "      <th>0</th>\n",
       "      <td>2184934963</td>\n",
       "      <td>71</td>\n",
       "      <td>91</td>\n",
       "      <td>False</td>\n",
       "      <td>23415</td>\n",
       "      <td>20439</td>\n",
       "      <td>0.426984</td>\n",
       "    </tr>\n",
       "    <tr>\n",
       "      <th>1</th>\n",
       "      <td>508658626</td>\n",
       "      <td>14</td>\n",
       "      <td>98</td>\n",
       "      <td>False</td>\n",
       "      <td>6615</td>\n",
       "      <td>508</td>\n",
       "      <td>0.633333</td>\n",
       "    </tr>\n",
       "    <tr>\n",
       "      <th>2</th>\n",
       "      <td>2607105006</td>\n",
       "      <td>0</td>\n",
       "      <td>1</td>\n",
       "      <td>False</td>\n",
       "      <td>22</td>\n",
       "      <td>133</td>\n",
       "      <td>0.345238</td>\n",
       "    </tr>\n",
       "    <tr>\n",
       "      <th>3</th>\n",
       "      <td>19609660</td>\n",
       "      <td>0</td>\n",
       "      <td>0</td>\n",
       "      <td>False</td>\n",
       "      <td>4191</td>\n",
       "      <td>3708</td>\n",
       "      <td>0.000000</td>\n",
       "    </tr>\n",
       "    <tr>\n",
       "      <th>4</th>\n",
       "      <td>19609660</td>\n",
       "      <td>1</td>\n",
       "      <td>1</td>\n",
       "      <td>False</td>\n",
       "      <td>4191</td>\n",
       "      <td>3708</td>\n",
       "      <td>0.000000</td>\n",
       "    </tr>\n",
       "  </tbody>\n",
       "</table>\n",
       "</div>"
      ],
      "text/plain": [
       "           id  retweets  likes  verified  followers  friends  subjectivity\n",
       "0  2184934963        71     91     False      23415    20439      0.426984\n",
       "1   508658626        14     98     False       6615      508      0.633333\n",
       "2  2607105006         0      1     False         22      133      0.345238\n",
       "3    19609660         0      0     False       4191     3708      0.000000\n",
       "4    19609660         1      1     False       4191     3708      0.000000"
      ]
     },
     "execution_count": 118,
     "metadata": {},
     "output_type": "execute_result"
    }
   ],
   "source": [
    "# we can check the variables we have\n",
    "data.columns\n",
    "\n",
    "# we can check the first 10 rows of the data\n",
    "data.head()"
   ]
  },
  {
   "cell_type": "code",
   "execution_count": 8,
   "metadata": {},
   "outputs": [
    {
     "name": "stdout",
     "output_type": "stream",
     "text": [
      "id <class 'numpy.int64'>\n",
      "date <class 'str'>\n",
      "retweets <class 'numpy.int64'>\n",
      "source <class 'str'>\n",
      "author <class 'str'>\n",
      "likes <class 'numpy.int64'>\n",
      "text <class 'str'>\n",
      "twitter_name <class 'str'>\n",
      "location <class 'float'>\n",
      "verified <class 'numpy.bool_'>\n",
      "followers <class 'numpy.int64'>\n",
      "friends <class 'numpy.int64'>\n",
      "polarity <class 'numpy.float64'>\n",
      "subjectivity <class 'numpy.float64'>\n"
     ]
    },
    {
     "data": {
      "text/plain": [
       "id                int64\n",
       "date             object\n",
       "retweets          int64\n",
       "source           object\n",
       "author           object\n",
       "likes             int64\n",
       "text             object\n",
       "twitter_name     object\n",
       "location         object\n",
       "verified           bool\n",
       "followers         int64\n",
       "friends           int64\n",
       "polarity        float64\n",
       "subjectivity    float64\n",
       "dtype: object"
      ]
     },
     "execution_count": 8,
     "metadata": {},
     "output_type": "execute_result"
    }
   ],
   "source": [
    "# We can check the data types of our columns\n",
    "\n",
    "# Version 1, the long way\n",
    "for i in data.columns:\n",
    "    print(i, type(data[i][0]))\n",
    "\n",
    "# Version 2, the short way\n",
    "data.dtypes"
   ]
  },
  {
   "cell_type": "code",
   "execution_count": 12,
   "metadata": {},
   "outputs": [
    {
     "data": {
      "text/plain": [
       "(396, 14)"
      ]
     },
     "execution_count": 12,
     "metadata": {},
     "output_type": "execute_result"
    }
   ],
   "source": [
    "# We can check the number of rows and columns\n",
    "# Long way\n",
    "len(data.columns)\n",
    "len(data)\n",
    "\n",
    "# Short way\n",
    "data.shape"
   ]
  },
  {
   "cell_type": "code",
   "execution_count": 13,
   "metadata": {},
   "outputs": [
    {
     "data": {
      "text/plain": [
       "id                0\n",
       "date              0\n",
       "retweets          0\n",
       "source            0\n",
       "author            0\n",
       "likes             0\n",
       "text              0\n",
       "twitter_name      0\n",
       "location        103\n",
       "verified          0\n",
       "followers         0\n",
       "friends           0\n",
       "polarity          0\n",
       "subjectivity      0\n",
       "dtype: int64"
      ]
     },
     "execution_count": 13,
     "metadata": {},
     "output_type": "execute_result"
    }
   ],
   "source": [
    "# We can check the number of missing values\n",
    "data.isnull().sum()\n",
    "\n",
    "# This is expected. The rest of our data is doing ok."
   ]
  },
  {
   "cell_type": "code",
   "execution_count": 17,
   "metadata": {},
   "outputs": [
    {
     "data": {
      "text/plain": [
       "0      False\n",
       "1      False\n",
       "2      False\n",
       "3      False\n",
       "4      False\n",
       "       ...  \n",
       "391    False\n",
       "392    False\n",
       "393    False\n",
       "394    False\n",
       "395    False\n",
       "Name: verified, Length: 396, dtype: bool"
      ]
     },
     "execution_count": 17,
     "metadata": {},
     "output_type": "execute_result"
    }
   ],
   "source": [
    "# We can check the number of unique values\n",
    "data.nunique()\n",
    "\n",
    "# We can check the number of unique values for a specific column\n",
    "data[\"location\"].nunique()\n",
    "\n",
    "# There's one column that has 2 unique values. Prob a binary variable. Let's check it out\n",
    "data[\"verified\"].unique()\n",
    "\n",
    "data[\"verified\"]"
   ]
  },
  {
   "cell_type": "code",
   "execution_count": 18,
   "metadata": {},
   "outputs": [
    {
     "data": {
      "text/plain": [
       "verified\n",
       "False    375\n",
       "True      21\n",
       "Name: count, dtype: int64"
      ]
     },
     "execution_count": 18,
     "metadata": {},
     "output_type": "execute_result"
    }
   ],
   "source": [
    "# We can check the number of times each value appears in a column\n",
    "data[\"verified\"].value_counts()"
   ]
  },
  {
   "cell_type": "code",
   "execution_count": 89,
   "metadata": {},
   "outputs": [],
   "source": [
    "# For data science purposes, we don't like boolean, we like 0 and 1\n",
    "\n",
    "# We can change the values of a column\n",
    "data[\"verified\"] = data[\"verified\"].replace({True: 1, False: 0})\n",
    "\n",
    "# What happened there?"
   ]
  },
  {
   "cell_type": "code",
   "execution_count": 19,
   "metadata": {},
   "outputs": [
    {
     "data": {
      "text/html": [
       "<div>\n",
       "<style scoped>\n",
       "    .dataframe tbody tr th:only-of-type {\n",
       "        vertical-align: middle;\n",
       "    }\n",
       "\n",
       "    .dataframe tbody tr th {\n",
       "        vertical-align: top;\n",
       "    }\n",
       "\n",
       "    .dataframe thead th {\n",
       "        text-align: right;\n",
       "    }\n",
       "</style>\n",
       "<table border=\"1\" class=\"dataframe\">\n",
       "  <thead>\n",
       "    <tr style=\"text-align: right;\">\n",
       "      <th></th>\n",
       "      <th>id</th>\n",
       "      <th>date</th>\n",
       "      <th>retweets</th>\n",
       "      <th>source</th>\n",
       "      <th>author</th>\n",
       "      <th>likes</th>\n",
       "      <th>text</th>\n",
       "      <th>twitter_name</th>\n",
       "      <th>location</th>\n",
       "      <th>verified</th>\n",
       "      <th>followers</th>\n",
       "      <th>friends</th>\n",
       "      <th>polarity</th>\n",
       "      <th>subjectivity</th>\n",
       "    </tr>\n",
       "  </thead>\n",
       "  <tbody>\n",
       "    <tr>\n",
       "      <th>0</th>\n",
       "      <td>2184934963</td>\n",
       "      <td>2020-12-22 23:22:20</td>\n",
       "      <td>71</td>\n",
       "      <td>Twitter Web App</td>\n",
       "      <td>GO GREEN</td>\n",
       "      <td>91</td>\n",
       "      <td>The death of summer Arctic ice our Earth coole...</td>\n",
       "      <td>ECOWARRIORSS</td>\n",
       "      <td>NaN</td>\n",
       "      <td>False</td>\n",
       "      <td>23415</td>\n",
       "      <td>20439</td>\n",
       "      <td>-0.054365</td>\n",
       "      <td>0.426984</td>\n",
       "    </tr>\n",
       "    <tr>\n",
       "      <th>1</th>\n",
       "      <td>508658626</td>\n",
       "      <td>2020-12-10 14:30:00</td>\n",
       "      <td>14</td>\n",
       "      <td>Twitter for Advertisers</td>\n",
       "      <td>Elsevier Energy</td>\n",
       "      <td>98</td>\n",
       "      <td>@Elsevier and the @EditorsinChief are pleased ...</td>\n",
       "      <td>ElsevierEnergy</td>\n",
       "      <td>Oxford, England</td>\n",
       "      <td>False</td>\n",
       "      <td>6615</td>\n",
       "      <td>508</td>\n",
       "      <td>0.387500</td>\n",
       "      <td>0.633333</td>\n",
       "    </tr>\n",
       "    <tr>\n",
       "      <th>2</th>\n",
       "      <td>2607105006</td>\n",
       "      <td>2020-12-22 21:28:52</td>\n",
       "      <td>0</td>\n",
       "      <td>Twitter Web App</td>\n",
       "      <td>Arwyn Thomas</td>\n",
       "      <td>1</td>\n",
       "      <td>From better climate change education to improv...</td>\n",
       "      <td>siwarr5</td>\n",
       "      <td>Carmarthen</td>\n",
       "      <td>False</td>\n",
       "      <td>22</td>\n",
       "      <td>133</td>\n",
       "      <td>0.261905</td>\n",
       "      <td>0.345238</td>\n",
       "    </tr>\n",
       "    <tr>\n",
       "      <th>3</th>\n",
       "      <td>19609660</td>\n",
       "      <td>2020-12-22 21:24:10</td>\n",
       "      <td>0</td>\n",
       "      <td>Twitter Web App</td>\n",
       "      <td>Tom Gillispie, EDITOR/WRITER</td>\n",
       "      <td>0</td>\n",
       "      <td>climate change Links to FIXING CLIMATE CHANGE ...</td>\n",
       "      <td>EDITORatWORK</td>\n",
       "      <td>Rural Hall, North Carolina, USA</td>\n",
       "      <td>False</td>\n",
       "      <td>4191</td>\n",
       "      <td>3708</td>\n",
       "      <td>0.000000</td>\n",
       "      <td>0.000000</td>\n",
       "    </tr>\n",
       "    <tr>\n",
       "      <th>4</th>\n",
       "      <td>19609660</td>\n",
       "      <td>2020-12-21 22:52:09</td>\n",
       "      <td>1</td>\n",
       "      <td>Twitter Web App</td>\n",
       "      <td>Tom Gillispie, EDITOR/WRITER</td>\n",
       "      <td>1</td>\n",
       "      <td>climate change The 11TH HOUR FOR THE EARTH #cl...</td>\n",
       "      <td>EDITORatWORK</td>\n",
       "      <td>Rural Hall, North Carolina, USA</td>\n",
       "      <td>False</td>\n",
       "      <td>4191</td>\n",
       "      <td>3708</td>\n",
       "      <td>0.000000</td>\n",
       "      <td>0.000000</td>\n",
       "    </tr>\n",
       "    <tr>\n",
       "      <th>...</th>\n",
       "      <td>...</td>\n",
       "      <td>...</td>\n",
       "      <td>...</td>\n",
       "      <td>...</td>\n",
       "      <td>...</td>\n",
       "      <td>...</td>\n",
       "      <td>...</td>\n",
       "      <td>...</td>\n",
       "      <td>...</td>\n",
       "      <td>...</td>\n",
       "      <td>...</td>\n",
       "      <td>...</td>\n",
       "      <td>...</td>\n",
       "      <td>...</td>\n",
       "    </tr>\n",
       "    <tr>\n",
       "      <th>391</th>\n",
       "      <td>54992908</td>\n",
       "      <td>2020-01-03 12:29:11</td>\n",
       "      <td>0</td>\n",
       "      <td>Twitter Web App</td>\n",
       "      <td>Sascha Becher</td>\n",
       "      <td>0</td>\n",
       "      <td>An Inconsistent Truth From global cooling 1970...</td>\n",
       "      <td>SaschaBecher</td>\n",
       "      <td>Deutschland</td>\n",
       "      <td>False</td>\n",
       "      <td>132</td>\n",
       "      <td>132</td>\n",
       "      <td>0.000000</td>\n",
       "      <td>0.000000</td>\n",
       "    </tr>\n",
       "    <tr>\n",
       "      <th>392</th>\n",
       "      <td>209636315</td>\n",
       "      <td>2020-01-02 08:38:37</td>\n",
       "      <td>0</td>\n",
       "      <td>Twitter for iPhone</td>\n",
       "      <td>Morgan Fitzgibbon</td>\n",
       "      <td>0</td>\n",
       "      <td>2 climate thought alongside Einstein Robert Op...</td>\n",
       "      <td>morganefitz</td>\n",
       "      <td>Cork, Ireland</td>\n",
       "      <td>False</td>\n",
       "      <td>286</td>\n",
       "      <td>156</td>\n",
       "      <td>0.194444</td>\n",
       "      <td>0.494444</td>\n",
       "    </tr>\n",
       "    <tr>\n",
       "      <th>393</th>\n",
       "      <td>209636315</td>\n",
       "      <td>2020-01-02 08:35:52</td>\n",
       "      <td>0</td>\n",
       "      <td>Twitter for iPhone</td>\n",
       "      <td>Morgan Fitzgibbon</td>\n",
       "      <td>0</td>\n",
       "      <td>3 climate used as supporting evidence that man...</td>\n",
       "      <td>morganefitz</td>\n",
       "      <td>Cork, Ireland</td>\n",
       "      <td>False</td>\n",
       "      <td>286</td>\n",
       "      <td>156</td>\n",
       "      <td>0.286667</td>\n",
       "      <td>0.466667</td>\n",
       "    </tr>\n",
       "    <tr>\n",
       "      <th>394</th>\n",
       "      <td>21769361</td>\n",
       "      <td>2020-01-02 03:47:08</td>\n",
       "      <td>0</td>\n",
       "      <td>Twitter for iPhone</td>\n",
       "      <td>STEⓋE BOZIC</td>\n",
       "      <td>0</td>\n",
       "      <td>Global warming Global government via YouTube c...</td>\n",
       "      <td>STEVE_BOZIC</td>\n",
       "      <td>ÜT: 43.863963,-79.749634</td>\n",
       "      <td>False</td>\n",
       "      <td>478</td>\n",
       "      <td>738</td>\n",
       "      <td>0.000000</td>\n",
       "      <td>0.000000</td>\n",
       "    </tr>\n",
       "    <tr>\n",
       "      <th>395</th>\n",
       "      <td>95418595</td>\n",
       "      <td>2020-01-01 00:15:07</td>\n",
       "      <td>1</td>\n",
       "      <td>Hootsuite Inc.</td>\n",
       "      <td>Daily Climate</td>\n",
       "      <td>0</td>\n",
       "      <td>Its feared that climate change will make hot c...</td>\n",
       "      <td>TheDailyClimate</td>\n",
       "      <td>Bozeman, Mont.</td>\n",
       "      <td>False</td>\n",
       "      <td>17704</td>\n",
       "      <td>1370</td>\n",
       "      <td>0.112500</td>\n",
       "      <td>0.625000</td>\n",
       "    </tr>\n",
       "  </tbody>\n",
       "</table>\n",
       "<p>396 rows × 14 columns</p>\n",
       "</div>"
      ],
      "text/plain": [
       "             id                 date  retweets                   source   \n",
       "0    2184934963  2020-12-22 23:22:20        71          Twitter Web App  \\\n",
       "1     508658626  2020-12-10 14:30:00        14  Twitter for Advertisers   \n",
       "2    2607105006  2020-12-22 21:28:52         0          Twitter Web App   \n",
       "3      19609660  2020-12-22 21:24:10         0          Twitter Web App   \n",
       "4      19609660  2020-12-21 22:52:09         1          Twitter Web App   \n",
       "..          ...                  ...       ...                      ...   \n",
       "391    54992908  2020-01-03 12:29:11         0          Twitter Web App   \n",
       "392   209636315  2020-01-02 08:38:37         0       Twitter for iPhone   \n",
       "393   209636315  2020-01-02 08:35:52         0       Twitter for iPhone   \n",
       "394    21769361  2020-01-02 03:47:08         0       Twitter for iPhone   \n",
       "395    95418595  2020-01-01 00:15:07         1           Hootsuite Inc.   \n",
       "\n",
       "                           author  likes   \n",
       "0                        GO GREEN     91  \\\n",
       "1                 Elsevier Energy     98   \n",
       "2                    Arwyn Thomas      1   \n",
       "3    Tom Gillispie, EDITOR/WRITER      0   \n",
       "4    Tom Gillispie, EDITOR/WRITER      1   \n",
       "..                            ...    ...   \n",
       "391                 Sascha Becher      0   \n",
       "392             Morgan Fitzgibbon      0   \n",
       "393             Morgan Fitzgibbon      0   \n",
       "394                   STEⓋE BOZIC      0   \n",
       "395                 Daily Climate      0   \n",
       "\n",
       "                                                  text     twitter_name   \n",
       "0    The death of summer Arctic ice our Earth coole...     ECOWARRIORSS  \\\n",
       "1    @Elsevier and the @EditorsinChief are pleased ...   ElsevierEnergy   \n",
       "2    From better climate change education to improv...          siwarr5   \n",
       "3    climate change Links to FIXING CLIMATE CHANGE ...     EDITORatWORK   \n",
       "4    climate change The 11TH HOUR FOR THE EARTH #cl...     EDITORatWORK   \n",
       "..                                                 ...              ...   \n",
       "391  An Inconsistent Truth From global cooling 1970...     SaschaBecher   \n",
       "392  2 climate thought alongside Einstein Robert Op...      morganefitz   \n",
       "393  3 climate used as supporting evidence that man...      morganefitz   \n",
       "394  Global warming Global government via YouTube c...      STEVE_BOZIC   \n",
       "395  Its feared that climate change will make hot c...  TheDailyClimate   \n",
       "\n",
       "                            location  verified  followers  friends  polarity   \n",
       "0                                NaN     False      23415    20439 -0.054365  \\\n",
       "1                    Oxford, England     False       6615      508  0.387500   \n",
       "2                         Carmarthen     False         22      133  0.261905   \n",
       "3    Rural Hall, North Carolina, USA     False       4191     3708  0.000000   \n",
       "4    Rural Hall, North Carolina, USA     False       4191     3708  0.000000   \n",
       "..                               ...       ...        ...      ...       ...   \n",
       "391                      Deutschland     False        132      132  0.000000   \n",
       "392                    Cork, Ireland     False        286      156  0.194444   \n",
       "393                    Cork, Ireland     False        286      156  0.286667   \n",
       "394         ÜT: 43.863963,-79.749634     False        478      738  0.000000   \n",
       "395                   Bozeman, Mont.     False      17704     1370  0.112500   \n",
       "\n",
       "     subjectivity  \n",
       "0        0.426984  \n",
       "1        0.633333  \n",
       "2        0.345238  \n",
       "3        0.000000  \n",
       "4        0.000000  \n",
       "..            ...  \n",
       "391      0.000000  \n",
       "392      0.494444  \n",
       "393      0.466667  \n",
       "394      0.000000  \n",
       "395      0.625000  \n",
       "\n",
       "[396 rows x 14 columns]"
      ]
     },
     "execution_count": 19,
     "metadata": {},
     "output_type": "execute_result"
    }
   ],
   "source": [
    "data"
   ]
  },
  {
   "cell_type": "code",
   "execution_count": 21,
   "metadata": {},
   "outputs": [],
   "source": [
    "# We can create new columns using indexing\n",
    "data['new_column'] = len(data['text'])"
   ]
  },
  {
   "cell_type": "code",
   "execution_count": 23,
   "metadata": {},
   "outputs": [
    {
     "data": {
      "text/html": [
       "<div>\n",
       "<style scoped>\n",
       "    .dataframe tbody tr th:only-of-type {\n",
       "        vertical-align: middle;\n",
       "    }\n",
       "\n",
       "    .dataframe tbody tr th {\n",
       "        vertical-align: top;\n",
       "    }\n",
       "\n",
       "    .dataframe thead th {\n",
       "        text-align: right;\n",
       "    }\n",
       "</style>\n",
       "<table border=\"1\" class=\"dataframe\">\n",
       "  <thead>\n",
       "    <tr style=\"text-align: right;\">\n",
       "      <th></th>\n",
       "      <th>id</th>\n",
       "      <th>date</th>\n",
       "      <th>retweets</th>\n",
       "      <th>source</th>\n",
       "      <th>author</th>\n",
       "      <th>likes</th>\n",
       "      <th>text</th>\n",
       "      <th>twitter_name</th>\n",
       "      <th>location</th>\n",
       "      <th>verified</th>\n",
       "      <th>followers</th>\n",
       "      <th>friends</th>\n",
       "      <th>polarity</th>\n",
       "      <th>subjectivity</th>\n",
       "      <th>new_column</th>\n",
       "      <th>text_length</th>\n",
       "    </tr>\n",
       "  </thead>\n",
       "  <tbody>\n",
       "    <tr>\n",
       "      <th>0</th>\n",
       "      <td>2184934963</td>\n",
       "      <td>2020-12-22 23:22:20</td>\n",
       "      <td>71</td>\n",
       "      <td>Twitter Web App</td>\n",
       "      <td>GO GREEN</td>\n",
       "      <td>91</td>\n",
       "      <td>The death of summer Arctic ice our Earth coole...</td>\n",
       "      <td>ECOWARRIORSS</td>\n",
       "      <td>NaN</td>\n",
       "      <td>False</td>\n",
       "      <td>23415</td>\n",
       "      <td>20439</td>\n",
       "      <td>-0.054365</td>\n",
       "      <td>0.426984</td>\n",
       "      <td>396</td>\n",
       "      <td>396</td>\n",
       "    </tr>\n",
       "    <tr>\n",
       "      <th>1</th>\n",
       "      <td>508658626</td>\n",
       "      <td>2020-12-10 14:30:00</td>\n",
       "      <td>14</td>\n",
       "      <td>Twitter for Advertisers</td>\n",
       "      <td>Elsevier Energy</td>\n",
       "      <td>98</td>\n",
       "      <td>@Elsevier and the @EditorsinChief are pleased ...</td>\n",
       "      <td>ElsevierEnergy</td>\n",
       "      <td>Oxford, England</td>\n",
       "      <td>False</td>\n",
       "      <td>6615</td>\n",
       "      <td>508</td>\n",
       "      <td>0.387500</td>\n",
       "      <td>0.633333</td>\n",
       "      <td>396</td>\n",
       "      <td>396</td>\n",
       "    </tr>\n",
       "    <tr>\n",
       "      <th>2</th>\n",
       "      <td>2607105006</td>\n",
       "      <td>2020-12-22 21:28:52</td>\n",
       "      <td>0</td>\n",
       "      <td>Twitter Web App</td>\n",
       "      <td>Arwyn Thomas</td>\n",
       "      <td>1</td>\n",
       "      <td>From better climate change education to improv...</td>\n",
       "      <td>siwarr5</td>\n",
       "      <td>Carmarthen</td>\n",
       "      <td>False</td>\n",
       "      <td>22</td>\n",
       "      <td>133</td>\n",
       "      <td>0.261905</td>\n",
       "      <td>0.345238</td>\n",
       "      <td>396</td>\n",
       "      <td>396</td>\n",
       "    </tr>\n",
       "    <tr>\n",
       "      <th>3</th>\n",
       "      <td>19609660</td>\n",
       "      <td>2020-12-22 21:24:10</td>\n",
       "      <td>0</td>\n",
       "      <td>Twitter Web App</td>\n",
       "      <td>Tom Gillispie, EDITOR/WRITER</td>\n",
       "      <td>0</td>\n",
       "      <td>climate change Links to FIXING CLIMATE CHANGE ...</td>\n",
       "      <td>EDITORatWORK</td>\n",
       "      <td>Rural Hall, North Carolina, USA</td>\n",
       "      <td>False</td>\n",
       "      <td>4191</td>\n",
       "      <td>3708</td>\n",
       "      <td>0.000000</td>\n",
       "      <td>0.000000</td>\n",
       "      <td>396</td>\n",
       "      <td>396</td>\n",
       "    </tr>\n",
       "    <tr>\n",
       "      <th>4</th>\n",
       "      <td>19609660</td>\n",
       "      <td>2020-12-21 22:52:09</td>\n",
       "      <td>1</td>\n",
       "      <td>Twitter Web App</td>\n",
       "      <td>Tom Gillispie, EDITOR/WRITER</td>\n",
       "      <td>1</td>\n",
       "      <td>climate change The 11TH HOUR FOR THE EARTH #cl...</td>\n",
       "      <td>EDITORatWORK</td>\n",
       "      <td>Rural Hall, North Carolina, USA</td>\n",
       "      <td>False</td>\n",
       "      <td>4191</td>\n",
       "      <td>3708</td>\n",
       "      <td>0.000000</td>\n",
       "      <td>0.000000</td>\n",
       "      <td>396</td>\n",
       "      <td>396</td>\n",
       "    </tr>\n",
       "  </tbody>\n",
       "</table>\n",
       "</div>"
      ],
      "text/plain": [
       "           id                 date  retweets                   source   \n",
       "0  2184934963  2020-12-22 23:22:20        71          Twitter Web App  \\\n",
       "1   508658626  2020-12-10 14:30:00        14  Twitter for Advertisers   \n",
       "2  2607105006  2020-12-22 21:28:52         0          Twitter Web App   \n",
       "3    19609660  2020-12-22 21:24:10         0          Twitter Web App   \n",
       "4    19609660  2020-12-21 22:52:09         1          Twitter Web App   \n",
       "\n",
       "                         author  likes   \n",
       "0                      GO GREEN     91  \\\n",
       "1               Elsevier Energy     98   \n",
       "2                  Arwyn Thomas      1   \n",
       "3  Tom Gillispie, EDITOR/WRITER      0   \n",
       "4  Tom Gillispie, EDITOR/WRITER      1   \n",
       "\n",
       "                                                text    twitter_name   \n",
       "0  The death of summer Arctic ice our Earth coole...    ECOWARRIORSS  \\\n",
       "1  @Elsevier and the @EditorsinChief are pleased ...  ElsevierEnergy   \n",
       "2  From better climate change education to improv...         siwarr5   \n",
       "3  climate change Links to FIXING CLIMATE CHANGE ...    EDITORatWORK   \n",
       "4  climate change The 11TH HOUR FOR THE EARTH #cl...    EDITORatWORK   \n",
       "\n",
       "                          location  verified  followers  friends  polarity   \n",
       "0                              NaN     False      23415    20439 -0.054365  \\\n",
       "1                  Oxford, England     False       6615      508  0.387500   \n",
       "2                       Carmarthen     False         22      133  0.261905   \n",
       "3  Rural Hall, North Carolina, USA     False       4191     3708  0.000000   \n",
       "4  Rural Hall, North Carolina, USA     False       4191     3708  0.000000   \n",
       "\n",
       "   subjectivity  new_column  text_length  \n",
       "0      0.426984         396          396  \n",
       "1      0.633333         396          396  \n",
       "2      0.345238         396          396  \n",
       "3      0.000000         396          396  \n",
       "4      0.000000         396          396  "
      ]
     },
     "execution_count": 23,
     "metadata": {},
     "output_type": "execute_result"
    }
   ],
   "source": [
    "# Let's inspect our new column\n",
    "\n",
    "data.head()"
   ]
  },
  {
   "cell_type": "code",
   "execution_count": null,
   "metadata": {},
   "outputs": [],
   "source": [
    "# Let's change the name of the column\n",
    "data = data.rename(columns={'new_column': 'text_length'})\n",
    "\n",
    "# You can always rename columns if you don't like the names "
   ]
  },
  {
   "cell_type": "code",
   "execution_count": null,
   "metadata": {},
   "outputs": [],
   "source": [
    "# Can we create a new column based on a condition?\n",
    "data['size_boolean'] = data['text_length'] > 140\n",
    "\n",
    "# Can we make it even better, can we make it binary? Let's use a list comprehension\n",
    "data['size_binary'] = [1 if i > 140 else 0 for i in data['text_length']]\n",
    "\n",
    "# What happened there?\n",
    "# for i in data['text_length']:\n",
    "#     if i > 140:\n",
    "#         print(1)\n",
    "#     else:\n",
    "#         print(0)\n",
    "        "
   ]
  },
  {
   "cell_type": "code",
   "execution_count": 24,
   "metadata": {},
   "outputs": [],
   "source": [
    "# You can superscript and subscript in your column values\n",
    "data['text_length'] = data['text_length'].astype(str) + ' characters'\n",
    "\n",
    "data.head()"
   ]
  },
  {
   "cell_type": "code",
   "execution_count": 25,
   "metadata": {},
   "outputs": [],
   "source": [
    "# Let's undo that, that's not helpful at all\n",
    "data['text_length'] = len(data['text_length'])"
   ]
  },
  {
   "cell_type": "code",
   "execution_count": null,
   "metadata": {},
   "outputs": [],
   "source": [
    "# Now it's your turn \n",
    "\n",
    "# 1. Create a subset of the data for the verified users. Call it vf_data\n",
    "\n",
    "# 2. Check the number of rows and columns of vf_data\n",
    "\n",
    "# 3. Check the number of missing values in vf_data\n",
    "\n",
    "# 4. Get the average number of followers of the verified users. Now do the same for unverified users.\n",
    "#    Which is bigger?\n"
   ]
  },
  {
   "cell_type": "code",
   "execution_count": 27,
   "metadata": {},
   "outputs": [
    {
     "data": {
      "text/plain": [
       "verified\n",
       "False      3650.674667\n",
       "True     151146.809524\n",
       "Name: followers, dtype: float64"
      ]
     },
     "execution_count": 27,
     "metadata": {},
     "output_type": "execute_result"
    }
   ],
   "source": [
    "# Can we do this in one line of code? \n",
    "\n",
    "data.groupby('verified')['followers'].mean()\n",
    "\n",
    "# What does groupby do?"
   ]
  },
  {
   "cell_type": "code",
   "execution_count": 31,
   "metadata": {},
   "outputs": [
    {
     "data": {
      "text/plain": [
       "source\n",
       "Granite Media                       161.000000\n",
       "Twitter for Advertisers              14.000000\n",
       "Twitter Web Client                    3.695652\n",
       "Twitter Web App                       3.681818\n",
       "TweetDeck                             2.200000\n",
       "Twitter for iPhone                    1.969697\n",
       "Hootsuite Inc.                        1.440000\n",
       "Twitter for iPad                      1.181818\n",
       "Buffer                                1.000000\n",
       "Facebook                              1.000000\n",
       "Twitter for Android                   0.420000\n",
       "Spreaker                              0.200000\n",
       "Prothom Alo English                   0.000000\n",
       "Tumblr                                0.000000\n",
       "Blog2Social APP                       0.000000\n",
       "News Users                            0.000000\n",
       "Twitter for Advertisers (legacy)      0.000000\n",
       "Twittimer                             0.000000\n",
       "WordPress.com                         0.000000\n",
       "PromotePictures                       0.000000\n",
       "MonkeyViral Auto Post                 0.000000\n",
       "MrPyrometer                           0.000000\n",
       "MeetEdgar                             0.000000\n",
       "Loomly                                0.000000\n",
       "LinkedIn                              0.000000\n",
       "JabX.net                              0.000000\n",
       "Instagram                             0.000000\n",
       "IFTTT                                 0.000000\n",
       "Happy Eco News                        0.000000\n",
       "Gridpointwx                           0.000000\n",
       "GoliathSearchEngine                   0.000000\n",
       "GoDaddy Social App                    0.000000\n",
       "FS Poster                             0.000000\n",
       "Crowdfire App                         0.000000\n",
       "ContentStudio.io                      0.000000\n",
       "weather-globe                         0.000000\n",
       "Name: retweets, dtype: float64"
      ]
     },
     "execution_count": 31,
     "metadata": {},
     "output_type": "execute_result"
    }
   ],
   "source": [
    "# Try it now with another variable and check retweets\n",
    "\n",
    "data.groupby('source')['retweets'].mean()\n",
    "\n",
    "# We see a big outlier!\n",
    "data.groupby('source')['retweets'].mean().sort_values(ascending=False)"
   ]
  },
  {
   "cell_type": "code",
   "execution_count": 35,
   "metadata": {},
   "outputs": [
    {
     "data": {
      "text/html": [
       "<div>\n",
       "<style scoped>\n",
       "    .dataframe tbody tr th:only-of-type {\n",
       "        vertical-align: middle;\n",
       "    }\n",
       "\n",
       "    .dataframe tbody tr th {\n",
       "        vertical-align: top;\n",
       "    }\n",
       "\n",
       "    .dataframe thead th {\n",
       "        text-align: right;\n",
       "    }\n",
       "</style>\n",
       "<table border=\"1\" class=\"dataframe\">\n",
       "  <thead>\n",
       "    <tr style=\"text-align: right;\">\n",
       "      <th></th>\n",
       "      <th>id</th>\n",
       "      <th>date</th>\n",
       "      <th>retweets</th>\n",
       "      <th>source</th>\n",
       "      <th>author</th>\n",
       "      <th>likes</th>\n",
       "      <th>text</th>\n",
       "      <th>twitter_name</th>\n",
       "      <th>location</th>\n",
       "      <th>verified</th>\n",
       "      <th>followers</th>\n",
       "      <th>friends</th>\n",
       "      <th>polarity</th>\n",
       "      <th>subjectivity</th>\n",
       "      <th>new_column</th>\n",
       "      <th>text_length</th>\n",
       "    </tr>\n",
       "  </thead>\n",
       "  <tbody>\n",
       "    <tr>\n",
       "      <th>106</th>\n",
       "      <td>974356729856053248</td>\n",
       "      <td>2020-02-06 05:17:18</td>\n",
       "      <td>161</td>\n",
       "      <td>Granite Media</td>\n",
       "      <td>Far &amp; Wide</td>\n",
       "      <td>883</td>\n",
       "      <td>Yes thats right Every single country</td>\n",
       "      <td>FarandWidecom</td>\n",
       "      <td>San Francisco, CA</td>\n",
       "      <td>False</td>\n",
       "      <td>28125</td>\n",
       "      <td>16</td>\n",
       "      <td>0.107143</td>\n",
       "      <td>0.375</td>\n",
       "      <td>396</td>\n",
       "      <td>396</td>\n",
       "    </tr>\n",
       "  </tbody>\n",
       "</table>\n",
       "</div>"
      ],
      "text/plain": [
       "                     id                 date  retweets         source   \n",
       "106  974356729856053248  2020-02-06 05:17:18       161  Granite Media  \\\n",
       "\n",
       "         author  likes                                  text   twitter_name   \n",
       "106  Far & Wide    883  Yes thats right Every single country  FarandWidecom  \\\n",
       "\n",
       "              location  verified  followers  friends  polarity  subjectivity   \n",
       "106  San Francisco, CA     False      28125       16  0.107143         0.375  \\\n",
       "\n",
       "     new_column  text_length  \n",
       "106         396          396  "
      ]
     },
     "execution_count": 35,
     "metadata": {},
     "output_type": "execute_result"
    }
   ],
   "source": [
    "# Who is Granite media? Subset\n",
    "\n",
    "data[data['source'] == 'Granite Media']\n",
    "\n",
    "# What did they write?\n",
    "data[data['source'] == 'Granite Media']['text']"
   ]
  },
  {
   "cell_type": "code",
   "execution_count": 42,
   "metadata": {},
   "outputs": [
    {
     "data": {
      "image/png": "[encoded data removed]",
      "text/plain": [
       "<Figure size 640x480 with 1 Axes>"
      ]
     },
     "metadata": {},
     "output_type": "display_data"
    }
   ],
   "source": [
    "# Let's visualize our data now. We will use matplotlib\n",
    "import matplotlib.pyplot as plt\n",
    "\n",
    "# Let's plot the number of followers\n",
    "plt.hist(data['friends'], bins=100)\n",
    "plt.show()\n"
   ]
  },
  {
   "cell_type": "code",
   "execution_count": 43,
   "metadata": {},
   "outputs": [
    {
     "data": {
      "image/png": "[encoded data removed]",
      "text/plain": [
       "<Figure size 640x480 with 1 Axes>"
      ]
     },
     "metadata": {},
     "output_type": "display_data"
    }
   ],
   "source": [
    "# Let's plot the number of followers for verified users\n",
    "plt.hist(data[data['verified'] == 1]['friends'], bins=100)\n",
    "plt.show()\n"
   ]
  },
  {
   "cell_type": "code",
   "execution_count": null,
   "metadata": {},
   "outputs": [],
   "source": [
    "# If groups you will now do the following exercise\n",
    "\n",
    "# Plot the date of the tweets\n",
    "\n",
    "# Plot polarity of the tweets"
   ]
  },
  {
   "cell_type": "markdown",
   "metadata": {},
   "source": [
    "## Let's do a pipeline for numerical values and create a small model"
   ]
  },
  {
   "cell_type": "code",
   "execution_count": 143,
   "metadata": {},
   "outputs": [
    {
     "data": {
      "text/plain": [
       "id                int64\n",
       "date             object\n",
       "retweets          int64\n",
       "source           object\n",
       "author           object\n",
       "likes             int64\n",
       "text             object\n",
       "twitter_name     object\n",
       "location         object\n",
       "verified           bool\n",
       "followers         int64\n",
       "friends           int64\n",
       "polarity        float64\n",
       "subjectivity    float64\n",
       "dtype: object"
      ]
     },
     "execution_count": 143,
     "metadata": {},
     "output_type": "execute_result"
    }
   ],
   "source": [
    "# First we need to make sure we are only using numerical variables \n",
    "\n",
    "data.dtypes"
   ]
  },
  {
   "cell_type": "code",
   "execution_count": 165,
   "metadata": {},
   "outputs": [],
   "source": [
    "# We will drop for now \n",
    "data = data.drop(['id', 'date', 'source', 'author', 'text', 'twitter_name', 'location'], axis=1)"
   ]
  },
  {
   "cell_type": "code",
   "execution_count": 166,
   "metadata": {},
   "outputs": [
    {
     "data": {
      "text/plain": [
       "retweets          int64\n",
       "likes             int64\n",
       "verified           bool\n",
       "followers         int64\n",
       "friends           int64\n",
       "polarity        float64\n",
       "subjectivity    float64\n",
       "dtype: object"
      ]
     },
     "execution_count": 166,
     "metadata": {},
     "output_type": "execute_result"
    }
   ],
   "source": [
    "# Check data types again\n",
    "data.dtypes"
   ]
  },
  {
   "cell_type": "code",
   "execution_count": 167,
   "metadata": {},
   "outputs": [
    {
     "data": {
      "text/plain": [
       "<Axes: >"
      ]
     },
     "execution_count": 167,
     "metadata": {},
     "output_type": "execute_result"
    },
    {
     "data": {
      "image/png": "[encoded data removed]",
      "text/plain": [
       "<Figure size 640x480 with 1 Axes>"
      ]
     },
     "metadata": {},
     "output_type": "display_data"
    }
   ],
   "source": [
    "# We will inspect our target value, friends\n",
    "data['friends'].hist(bins=100)"
   ]
  },
  {
   "cell_type": "code",
   "execution_count": 168,
   "metadata": {},
   "outputs": [],
   "source": [
    "# Set data and target (x and y)\n",
    "data, target = data.drop(columns=\"friends\"), data[\"friends\"]"
   ]
  },
  {
   "cell_type": "code",
   "execution_count": 169,
   "metadata": {},
   "outputs": [
    {
     "data": {
      "text/html": [
       "<div>\n",
       "<style scoped>\n",
       "    .dataframe tbody tr th:only-of-type {\n",
       "        vertical-align: middle;\n",
       "    }\n",
       "\n",
       "    .dataframe tbody tr th {\n",
       "        vertical-align: top;\n",
       "    }\n",
       "\n",
       "    .dataframe thead th {\n",
       "        text-align: right;\n",
       "    }\n",
       "</style>\n",
       "<table border=\"1\" class=\"dataframe\">\n",
       "  <thead>\n",
       "    <tr style=\"text-align: right;\">\n",
       "      <th></th>\n",
       "      <th>retweets</th>\n",
       "      <th>likes</th>\n",
       "      <th>verified</th>\n",
       "      <th>followers</th>\n",
       "      <th>polarity</th>\n",
       "      <th>subjectivity</th>\n",
       "    </tr>\n",
       "  </thead>\n",
       "  <tbody>\n",
       "    <tr>\n",
       "      <th>0</th>\n",
       "      <td>71</td>\n",
       "      <td>91</td>\n",
       "      <td>False</td>\n",
       "      <td>23415</td>\n",
       "      <td>-0.054365</td>\n",
       "      <td>0.426984</td>\n",
       "    </tr>\n",
       "    <tr>\n",
       "      <th>1</th>\n",
       "      <td>14</td>\n",
       "      <td>98</td>\n",
       "      <td>False</td>\n",
       "      <td>6615</td>\n",
       "      <td>0.387500</td>\n",
       "      <td>0.633333</td>\n",
       "    </tr>\n",
       "    <tr>\n",
       "      <th>2</th>\n",
       "      <td>0</td>\n",
       "      <td>1</td>\n",
       "      <td>False</td>\n",
       "      <td>22</td>\n",
       "      <td>0.261905</td>\n",
       "      <td>0.345238</td>\n",
       "    </tr>\n",
       "    <tr>\n",
       "      <th>3</th>\n",
       "      <td>0</td>\n",
       "      <td>0</td>\n",
       "      <td>False</td>\n",
       "      <td>4191</td>\n",
       "      <td>0.000000</td>\n",
       "      <td>0.000000</td>\n",
       "    </tr>\n",
       "    <tr>\n",
       "      <th>4</th>\n",
       "      <td>1</td>\n",
       "      <td>1</td>\n",
       "      <td>False</td>\n",
       "      <td>4191</td>\n",
       "      <td>0.000000</td>\n",
       "      <td>0.000000</td>\n",
       "    </tr>\n",
       "  </tbody>\n",
       "</table>\n",
       "</div>"
      ],
      "text/plain": [
       "   retweets  likes  verified  followers  polarity  subjectivity\n",
       "0        71     91     False      23415 -0.054365      0.426984\n",
       "1        14     98     False       6615  0.387500      0.633333\n",
       "2         0      1     False         22  0.261905      0.345238\n",
       "3         0      0     False       4191  0.000000      0.000000\n",
       "4         1      1     False       4191  0.000000      0.000000"
      ]
     },
     "execution_count": 169,
     "metadata": {},
     "output_type": "execute_result"
    }
   ],
   "source": [
    "# We can see the shape of our data again\n",
    "data.head()"
   ]
  },
  {
   "cell_type": "code",
   "execution_count": 170,
   "metadata": {},
   "outputs": [],
   "source": [
    "# Now we will separate our data into train and test\n",
    "\n",
    "from sklearn.model_selection import train_test_split\n",
    "\n",
    "data_train, data_test, target_train, target_test = train_test_split(\n",
    "    data, target, random_state=42, test_size=0.25\n",
    ")"
   ]
  },
  {
   "cell_type": "code",
   "execution_count": 171,
   "metadata": {},
   "outputs": [
    {
     "data": {
      "text/plain": [
       "(297, 6)"
      ]
     },
     "execution_count": 171,
     "metadata": {},
     "output_type": "execute_result"
    }
   ],
   "source": [
    "# how many samples are here?\n",
    "data_train.shape"
   ]
  },
  {
   "cell_type": "code",
   "execution_count": 172,
   "metadata": {},
   "outputs": [
    {
     "data": {
      "text/plain": [
       "(297,)"
      ]
     },
     "execution_count": 172,
     "metadata": {},
     "output_type": "execute_result"
    }
   ],
   "source": [
    "# how many samples are here?\n",
    "target_train.shape"
   ]
  },
  {
   "cell_type": "code",
   "execution_count": 173,
   "metadata": {},
   "outputs": [
    {
     "name": "stdout",
     "output_type": "stream",
     "text": [
      "Number of samples in testing: 99 => 25.0% of the original set\n"
     ]
    }
   ],
   "source": [
    "print(\n",
    "    f\"Number of samples in testing: {data_test.shape[0]} => \"\n",
    "    f\"{data_test.shape[0] / data.shape[0] * 100:.1f}% of the\"\n",
    "    \" original set\"\n",
    ")"
   ]
  },
  {
   "cell_type": "code",
   "execution_count": 174,
   "metadata": {},
   "outputs": [
    {
     "name": "stdout",
     "output_type": "stream",
     "text": [
      "Number of samples in training: 297 => 75.0% of the original set\n"
     ]
    }
   ],
   "source": [
    "print(\n",
    "    f\"Number of samples in training: {data_train.shape[0]} => \"\n",
    "    f\"{data_train.shape[0] / data.shape[0] * 100:.1f}% of the\"\n",
    "    \" original set\"\n",
    ")"
   ]
  },
  {
   "cell_type": "code",
   "execution_count": 175,
   "metadata": {},
   "outputs": [],
   "source": [
    "# We first need to import the linear regression model and set it\n",
    "\n",
    "from sklearn.linear_model import LinearRegression\n",
    "model = LinearRegression()"
   ]
  },
  {
   "cell_type": "code",
   "execution_count": 176,
   "metadata": {},
   "outputs": [
    {
     "data": {
      "text/html": [
       "<style>#sk-container-id-7 {color: black;background-color: white;}#sk-container-id-7 pre{padding: 0;}#sk-container-id-7 div.sk-toggleable {background-color: white;}#sk-container-id-7 label.sk-toggleable__label {cursor: pointer;display: block;width: 100%;margin-bottom: 0;padding: 0.3em;box-sizing: border-box;text-align: center;}#sk-container-id-7 label.sk-toggleable__label-arrow:before {content: \"▸\";float: left;margin-right: 0.25em;color: #696969;}#sk-container-id-7 label.sk-toggleable__label-arrow:hover:before {color: black;}#sk-container-id-7 div.sk-estimator:hover label.sk-toggleable__label-arrow:before {color: black;}#sk-container-id-7 div.sk-toggleable__content {max-height: 0;max-width: 0;overflow: hidden;text-align: left;background-color: #f0f8ff;}#sk-container-id-7 div.sk-toggleable__content pre {margin: 0.2em;color: black;border-radius: 0.25em;background-color: #f0f8ff;}#sk-container-id-7 input.sk-toggleable__control:checked~div.sk-toggleable__content {max-height: 200px;max-width: 100%;overflow: auto;}#sk-container-id-7 input.sk-toggleable__control:checked~label.sk-toggleable__label-arrow:before {content: \"▾\";}#sk-container-id-7 div.sk-estimator input.sk-toggleable__control:checked~label.sk-toggleable__label {background-color: #d4ebff;}#sk-container-id-7 div.sk-label input.sk-toggleable__control:checked~label.sk-toggleable__label {background-color: #d4ebff;}#sk-container-id-7 input.sk-hidden--visually {border: 0;clip: rect(1px 1px 1px 1px);clip: rect(1px, 1px, 1px, 1px);height: 1px;margin: -1px;overflow: hidden;padding: 0;position: absolute;width: 1px;}#sk-container-id-7 div.sk-estimator {font-family: monospace;background-color: #f0f8ff;border: 1px dotted black;border-radius: 0.25em;box-sizing: border-box;margin-bottom: 0.5em;}#sk-container-id-7 div.sk-estimator:hover {background-color: #d4ebff;}#sk-container-id-7 div.sk-parallel-item::after {content: \"\";width: 100%;border-bottom: 1px solid gray;flex-grow: 1;}#sk-container-id-7 div.sk-label:hover label.sk-toggleable__label {background-color: #d4ebff;}#sk-container-id-7 div.sk-serial::before {content: \"\";position: absolute;border-left: 1px solid gray;box-sizing: border-box;top: 0;bottom: 0;left: 50%;z-index: 0;}#sk-container-id-7 div.sk-serial {display: flex;flex-direction: column;align-items: center;background-color: white;padding-right: 0.2em;padding-left: 0.2em;position: relative;}#sk-container-id-7 div.sk-item {position: relative;z-index: 1;}#sk-container-id-7 div.sk-parallel {display: flex;align-items: stretch;justify-content: center;background-color: white;position: relative;}#sk-container-id-7 div.sk-item::before, #sk-container-id-7 div.sk-parallel-item::before {content: \"\";position: absolute;border-left: 1px solid gray;box-sizing: border-box;top: 0;bottom: 0;left: 50%;z-index: -1;}#sk-container-id-7 div.sk-parallel-item {display: flex;flex-direction: column;z-index: 1;position: relative;background-color: white;}#sk-container-id-7 div.sk-parallel-item:first-child::after {align-self: flex-end;width: 50%;}#sk-container-id-7 div.sk-parallel-item:last-child::after {align-self: flex-start;width: 50%;}#sk-container-id-7 div.sk-parallel-item:only-child::after {width: 0;}#sk-container-id-7 div.sk-dashed-wrapped {border: 1px dashed gray;margin: 0 0.4em 0.5em 0.4em;box-sizing: border-box;padding-bottom: 0.4em;background-color: white;}#sk-container-id-7 div.sk-label label {font-family: monospace;font-weight: bold;display: inline-block;line-height: 1.2em;}#sk-container-id-7 div.sk-label-container {text-align: center;}#sk-container-id-7 div.sk-container {/* jupyter's `normalize.less` sets `[hidden] { display: none; }` but bootstrap.min.css set `[hidden] { display: none !important; }` so we also need the `!important` here to be able to override the default hidden behavior on the sphinx rendered scikit-learn.org. See: https://github.com/scikit-learn/scikit-learn/issues/21755 */display: inline-block !important;position: relative;}#sk-container-id-7 div.sk-text-repr-fallback {display: none;}</style><div id=\"sk-container-id-7\" class=\"sk-top-container\"><div class=\"sk-text-repr-fallback\"><pre>LinearRegression()</pre><b>In a Jupyter environment, please rerun this cell to show the HTML representation or trust the notebook. <br />On GitHub, the HTML representation is unable to render, please try loading this page with nbviewer.org.</b></div><div class=\"sk-container\" hidden><div class=\"sk-item\"><div class=\"sk-estimator sk-toggleable\"><input class=\"sk-toggleable__control sk-hidden--visually\" id=\"sk-estimator-id-7\" type=\"checkbox\" checked><label for=\"sk-estimator-id-7\" class=\"sk-toggleable__label sk-toggleable__label-arrow\">LinearRegression</label><div class=\"sk-toggleable__content\"><pre>LinearRegression()</pre></div></div></div></div></div>"
      ],
      "text/plain": [
       "LinearRegression()"
      ]
     },
     "execution_count": 176,
     "metadata": {},
     "output_type": "execute_result"
    }
   ],
   "source": [
    "# We can now fit\n",
    "model.fit(data_train, target_train)"
   ]
  },
  {
   "cell_type": "code",
   "execution_count": 178,
   "metadata": {},
   "outputs": [
    {
     "name": "stdout",
     "output_type": "stream",
     "text": [
      "[ 3.18949074e+02 -6.15259010e+01  7.85052872e+01 -5.58810968e-03\n",
      " -3.12041879e+03  4.17372072e+02]\n",
      "2219.7824259438567\n"
     ]
    }
   ],
   "source": [
    "# Get the regression values of the model\n",
    "print(model.coef_)\n",
    "print(model.intercept_)"
   ]
  },
  {
   "cell_type": "code",
   "execution_count": 179,
   "metadata": {},
   "outputs": [
    {
     "data": {
      "text/html": [
       "<div>\n",
       "<style scoped>\n",
       "    .dataframe tbody tr th:only-of-type {\n",
       "        vertical-align: middle;\n",
       "    }\n",
       "\n",
       "    .dataframe tbody tr th {\n",
       "        vertical-align: top;\n",
       "    }\n",
       "\n",
       "    .dataframe thead th {\n",
       "        text-align: right;\n",
       "    }\n",
       "</style>\n",
       "<table border=\"1\" class=\"dataframe\">\n",
       "  <thead>\n",
       "    <tr style=\"text-align: right;\">\n",
       "      <th></th>\n",
       "      <th>retweets</th>\n",
       "      <th>likes</th>\n",
       "      <th>verified</th>\n",
       "      <th>followers</th>\n",
       "      <th>polarity</th>\n",
       "      <th>subjectivity</th>\n",
       "    </tr>\n",
       "  </thead>\n",
       "  <tbody>\n",
       "    <tr>\n",
       "      <th>0</th>\n",
       "      <td>71</td>\n",
       "      <td>91</td>\n",
       "      <td>False</td>\n",
       "      <td>23415</td>\n",
       "      <td>-0.054365</td>\n",
       "      <td>0.426984</td>\n",
       "    </tr>\n",
       "    <tr>\n",
       "      <th>1</th>\n",
       "      <td>14</td>\n",
       "      <td>98</td>\n",
       "      <td>False</td>\n",
       "      <td>6615</td>\n",
       "      <td>0.387500</td>\n",
       "      <td>0.633333</td>\n",
       "    </tr>\n",
       "    <tr>\n",
       "      <th>2</th>\n",
       "      <td>0</td>\n",
       "      <td>1</td>\n",
       "      <td>False</td>\n",
       "      <td>22</td>\n",
       "      <td>0.261905</td>\n",
       "      <td>0.345238</td>\n",
       "    </tr>\n",
       "    <tr>\n",
       "      <th>3</th>\n",
       "      <td>0</td>\n",
       "      <td>0</td>\n",
       "      <td>False</td>\n",
       "      <td>4191</td>\n",
       "      <td>0.000000</td>\n",
       "      <td>0.000000</td>\n",
       "    </tr>\n",
       "    <tr>\n",
       "      <th>4</th>\n",
       "      <td>1</td>\n",
       "      <td>1</td>\n",
       "      <td>False</td>\n",
       "      <td>4191</td>\n",
       "      <td>0.000000</td>\n",
       "      <td>0.000000</td>\n",
       "    </tr>\n",
       "  </tbody>\n",
       "</table>\n",
       "</div>"
      ],
      "text/plain": [
       "   retweets  likes  verified  followers  polarity  subjectivity\n",
       "0        71     91     False      23415 -0.054365      0.426984\n",
       "1        14     98     False       6615  0.387500      0.633333\n",
       "2         0      1     False         22  0.261905      0.345238\n",
       "3         0      0     False       4191  0.000000      0.000000\n",
       "4         1      1     False       4191  0.000000      0.000000"
      ]
     },
     "execution_count": 179,
     "metadata": {},
     "output_type": "execute_result"
    }
   ],
   "source": [
    "# This is the data we used to predict number of friends\n",
    "data.head()"
   ]
  },
  {
   "cell_type": "code",
   "execution_count": 180,
   "metadata": {},
   "outputs": [
    {
     "name": "stderr",
     "output_type": "stream",
     "text": [
      "/Users/paulina/Library/Python/3.9/lib/python/site-packages/sklearn/base.py:439: UserWarning: X does not have valid feature names, but LinearRegression was fitted with feature names\n",
      "  warnings.warn(\n"
     ]
    },
    {
     "data": {
      "text/plain": [
       "array([5303.17839781])"
      ]
     },
     "execution_count": 180,
     "metadata": {},
     "output_type": "execute_result"
    }
   ],
   "source": [
    "# Let's make a fake tweet and predict the number of friends\n",
    "\n",
    "model.predict([[10, 3, True, 4, 0, 0]])"
   ]
  }
 ],
 "metadata": {
  "kernelspec": {
   "display_name": "Python 3",
   "language": "python",
   "name": "python3"
  },
  "language_info": {
   "codemirror_mode": {
    "name": "ipython",
    "version": 3
   },
   "file_extension": ".py",
   "mimetype": "text/x-python",
   "name": "python",
   "nbconvert_exporter": "python",
   "pygments_lexer": "ipython3",
   "version": "3.9.6"
  },
  "orig_nbformat": 4
 },
 "nbformat": 4,
 "nbformat_minor": 2
}
