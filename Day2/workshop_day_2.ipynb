{
 "cells": [
  {
   "cell_type": "markdown",
   "metadata": {},
   "source": [
    "# Workshop Day 2\n",
    "## Today we will begin working with csv files and pandas"
   ]
  },
  {
   "cell_type": "code",
   "execution_count": 2,
   "metadata": {},
   "outputs": [],
   "source": [
    "# Let's open a csv file, read the text and split it into a list.\n",
    "\n",
    "import csv\n",
    "with open('/Users/paulina/Documents/GESIS_intro-to-python/GESISPython/Project/Climate_twitter.csv', 'r') as f:\n",
    "    reader = csv.reader(f)\n",
    "    data = list(reader)\n",
    "    \n",
    "# Compared to yesterday what do you think is different in the code above?"
   ]
  },
  {
   "cell_type": "code",
   "execution_count": null,
   "metadata": {},
   "outputs": [],
   "source": [
    "# What is the data object?\n"
   ]
  },
  {
   "cell_type": "code",
   "execution_count": null,
   "metadata": {},
   "outputs": [],
   "source": [
    "# Let's read the first element of our list of lists\n",
    "\n",
    "\n",
    "#What do we see?\n",
    "\n",
    "# What is the second value of the list of list? third?\n",
    "\n",
    "\n",
    "# How is our data ordered?"
   ]
  },
  {
   "cell_type": "markdown",
   "metadata": {},
   "source": [
    "Python, compared to R, is not a language that can natively handel matrices as data frames (Think data$column in R).\n",
    "The way to manipulate data in Python is by using different libraries. The most common and popular one is Pandas. "
   ]
  },
  {
   "cell_type": "code",
   "execution_count": 5,
   "metadata": {},
   "outputs": [],
   "source": [
    "# How to import a library in Python?\n",
    "# https://pypi.org/project/pandas/ \n",
    "\n",
    "# First install the library using \"pip\"\n",
    "# !pip install pandas\n",
    "\n",
    "# Then import the library, which can include a shorthand version or alias\n",
    "import pandas as pd\n"
   ]
  },
  {
   "cell_type": "code",
   "execution_count": 6,
   "metadata": {},
   "outputs": [],
   "source": [
    "# We can now read csv files using this library in multiple ways. \n",
    "\n",
    "# from files: \n",
    "data = pd.read_csv(\"path\", sep=\",\", index_col=0)\n",
    "\n",
    "# from url \n",
    "url = \"url\"\n",
    "reader = pd.read_csv(url)\n",
    "\n",
    "# Compared to the csv library, what is different in the code above?"
   ]
  },
  {
   "cell_type": "code",
   "execution_count": null,
   "metadata": {},
   "outputs": [],
   "source": [
    "# We can quickly see our data using the following methods:\n",
    "\n",
    "# Just a direct call\n",
    "reader\n",
    "\n",
    "# See the first 10 values\n",
    "\n",
    "\n",
    "# See the last 10 values\n",
    "\n",
    "\n",
    "# See the column names \n",
    "\n",
    "\n",
    "# See the shape of the data frame\n"
   ]
  },
  {
   "cell_type": "code",
   "execution_count": null,
   "metadata": {},
   "outputs": [],
   "source": [
    "# We can also inspect our data, checking data type per column \n",
    "\n",
    "\n",
    "# And using the describe method\n",
    "\n",
    "\n",
    "# And the info \n",
    "\n",
    "\n",
    "# This additionally tells us if there are null values in our dataset. "
   ]
  },
  {
   "cell_type": "code",
   "execution_count": null,
   "metadata": {},
   "outputs": [],
   "source": [
    "# We can also access columns, rows and cells. \n",
    "\n",
    "# columns\n",
    "\n",
    "\n",
    "# rows\n",
    "\n",
    "\n",
    "# cell\n"
   ]
  },
  {
   "cell_type": "code",
   "execution_count": null,
   "metadata": {},
   "outputs": [],
   "source": [
    "# We can check the number of missing values\n",
    "\n",
    "\n",
    "# Why is this expected?\n",
    "\n",
    "\n",
    "# Otherwise, the rest of the data looks ok."
   ]
  },
  {
   "cell_type": "code",
   "execution_count": null,
   "metadata": {},
   "outputs": [],
   "source": [
    "# We can check the number of unique values for each column\n",
    "\n",
    "\n",
    "# We can check the number of unique values for a specific column. Try it out with the 'author' column\n",
    "\n",
    "\n",
    "# There's one column that has 2 unique values. Prob a binary variable. Let's check it out\n"
   ]
  },
  {
   "cell_type": "code",
   "execution_count": null,
   "metadata": {},
   "outputs": [],
   "source": [
    "# How many times does each value appear in the verified column?\n"
   ]
  },
  {
   "cell_type": "code",
   "execution_count": null,
   "metadata": {},
   "outputs": [],
   "source": [
    "# We can save values of a column as a list\n",
    "\n",
    "\n",
    "# What data type is this? \n",
    "\n",
    "# save as a list\n"
   ]
  },
  {
   "cell_type": "code",
   "execution_count": null,
   "metadata": {},
   "outputs": [],
   "source": [
    "# Now that we know how to access columns, rows and cells, we can manipulate and transform our data.\n",
    "\n",
    "# we can subset the dataset into groups that are relevant for our research\n",
    "# We use boolene values for this! (>, <, =>, <=, !=, ==)\n",
    "\n",
    "# Maybe we only want popular tweets...\n",
    "# Subset the data into popular tweets (likes > 10), \n",
    "# not so popular tweets (likes < 10) and not popular at all (likes = 0)\n",
    "\n"
   ]
  },
  {
   "cell_type": "code",
   "execution_count": 78,
   "metadata": {},
   "outputs": [],
   "source": [
    "# We can add columns by simply assigning a value to a new column name\n",
    "reader['new_column'] = \"this is a new column\"\n",
    "\n",
    "# Divide the number of followers by 10, and save it in a new column\n",
    "\n",
    "\n",
    "# We can also remove columns\n",
    "\n"
   ]
  },
  {
   "cell_type": "code",
   "execution_count": null,
   "metadata": {},
   "outputs": [],
   "source": [
    "# Finally we can also change specific values of cells\n",
    "# Let's change the value of the location of one tweet\n",
    "\n",
    "print(reader.at[12, 'location'])\n",
    "\n",
    "# Add \"U.S.A.\" to the location of the tweet\n"
   ]
  },
  {
   "cell_type": "code",
   "execution_count": 15,
   "metadata": {},
   "outputs": [],
   "source": [
    "# Now that we know that we can access rows, columns, and cells,\n",
    "# we can think about modifying our dataframe\n",
    "\n",
    "# Create a new column that is the average of likes and followers\n"
   ]
  },
  {
   "cell_type": "code",
   "execution_count": null,
   "metadata": {},
   "outputs": [],
   "source": [
    "# For data science purposes, we don't like boolean, so let's change that.\n",
    "\n",
    "# Modify \"verified\" into 0 and 1\n",
    "\n"
   ]
  },
  {
   "cell_type": "code",
   "execution_count": 90,
   "metadata": {},
   "outputs": [],
   "source": [
    "# We can also modify vales using the apply method\n",
    "\n",
    "# We should first begin with a function that we want to apply to the column\n",
    "def add_one(x):\n",
    "    return x + 1\n",
    "\n",
    "# then we can apply this function to the column\n",
    "#\n",
    "# dataframe[column].apply(function)\n",
    "\n",
    "reader['likes'].apply(add_one)\n",
    "\n",
    "# we can save it as a new column \n",
    "reader['like_plus1'] = reader['likes'].apply(add_one)"
   ]
  },
  {
   "cell_type": "code",
   "execution_count": 89,
   "metadata": {},
   "outputs": [],
   "source": [
    "# Similarly we can use lambda functions\n",
    "\n",
    "# The logic is for every element \"x\" in the column, lambda should do this operation \"(x + 1)\"\n",
    "reader['likes'].apply(lambda x: x + 1)\n",
    "\n",
    "# Another example \n",
    "reader['likes'].apply(lambda x: x * 2)\n",
    "\n",
    "# We can also save this\n",
    "reader['like_time2'] = reader['likes'].apply(lambda x: x * 2)"
   ]
  },
  {
   "cell_type": "code",
   "execution_count": 28,
   "metadata": {},
   "outputs": [],
   "source": [
    "# Create a new column that shows \"positive\" or \"negative\" based on polatirty\n",
    "# consider everything above 0 as positive and everything below 0 as negative\n",
    "\n",
    "# Way one\n",
    "\n",
    "\n",
    "# Another way\n",
    "\n"
   ]
  },
  {
   "cell_type": "code",
   "execution_count": 44,
   "metadata": {},
   "outputs": [],
   "source": [
    "# Let's change the name of the column polarity_b to polarity_binary\n"
   ]
  },
  {
   "cell_type": "code",
   "execution_count": 48,
   "metadata": {},
   "outputs": [],
   "source": [
    "# We can modify data type of columns as well \n"
   ]
  },
  {
   "cell_type": "code",
   "execution_count": null,
   "metadata": {},
   "outputs": [],
   "source": [
    "# Was that a good idea?\n",
    "\n",
    "# turn it back to float\n"
   ]
  },
  {
   "cell_type": "code",
   "execution_count": null,
   "metadata": {},
   "outputs": [],
   "source": [
    "# We want to find tweet differences by date,\n",
    "# so we need to group our data by date\n",
    "\n",
    "# To do this, we can use the function \"groupby\"\n",
    "\n",
    "# Example:\n",
    "df = pd.DataFrame({'Animal': ['Falcon', 'Falcon','Parrot', 'Parrot'],\n",
    "                   'Max Speed': [380., 370., 24., 26.]})\n",
    "\n",
    "df"
   ]
  },
  {
   "cell_type": "code",
   "execution_count": null,
   "metadata": {},
   "outputs": [],
   "source": [
    "# see what happens\n",
    "df.groupby(['Animal']).mean()"
   ]
  },
  {
   "cell_type": "code",
   "execution_count": null,
   "metadata": {},
   "outputs": [],
   "source": [
    "# Find the mean likes by month\n",
    "\n",
    "# Currently, our date data has a lot of information \n",
    "reader['date']\n",
    "\n",
    "# year, month, day, and time -> 2020-12-22 23:22:20\n"
   ]
  },
  {
   "cell_type": "code",
   "execution_count": null,
   "metadata": {},
   "outputs": [],
   "source": [
    "# Let's think of this as a string\n",
    "\"2020-12-22 23:22:20\"\n",
    "\n",
    "# We can split this string into a list of strings\n",
    "\n",
    "\n",
    "# we can access the first element of the list\n",
    "\n",
    "\n",
    "# We can also split this string using a specific character\n",
    "\n",
    "\n",
    "# We can access the second element of the list, which is the month\n",
    "\n"
   ]
  },
  {
   "cell_type": "code",
   "execution_count": 107,
   "metadata": {},
   "outputs": [],
   "source": [
    "# Let's create a new column with the month value only using a lambda function\n",
    "# remember, here we are saying:\n",
    "# \"for every element x in the column, lambda should do this operation x.split('-')[1]\"\n",
    "\n"
   ]
  },
  {
   "cell_type": "code",
   "execution_count": null,
   "metadata": {},
   "outputs": [],
   "source": [
    "# we can now groupby month\n",
    "\n",
    "\n",
    "# and see the mean of the columns\n",
    "# first specify data, then groupby with the column inside, then the column we want to see the mean of\n"
   ]
  },
  {
   "cell_type": "code",
   "execution_count": null,
   "metadata": {},
   "outputs": [],
   "source": [
    "# Finally, we can create, merge and combine dataframes\n",
    "\n",
    "# Let's create two new dataframe\n",
    "\n",
    "df1 = pd.DataFrame({'month': ['01', '02', '03', '04'],\n",
    "              'likes': [100, 200, 300, 400]})\n",
    "\n",
    "\n",
    "df2 = pd.DataFrame({'month': ['01', '02', '03', '04'],\n",
    "              'likes': [100, 200, 300, 400]})\n",
    "\n",
    "# We can merge them using the merge method\n",
    "\n",
    "\n",
    "# We can also concatenate them\n",
    "\n"
   ]
  },
  {
   "cell_type": "code",
   "execution_count": null,
   "metadata": {},
   "outputs": [],
   "source": [
    "# So far we have learned how to read, inspect, modify, and combine dataframes.\n",
    "\n",
    "# We can now save our modified dataframe as csv files\n",
    "\n",
    "reader.to_csv('path.csv')"
   ]
  }
 ],
 "metadata": {
  "kernelspec": {
   "display_name": "Python 3 (ipykernel)",
   "language": "python",
   "name": "python3"
  },
  "language_info": {
   "codemirror_mode": {
    "name": "ipython",
    "version": 3
   },
   "file_extension": ".py",
   "mimetype": "text/x-python",
   "name": "python",
   "nbconvert_exporter": "python",
   "pygments_lexer": "ipython3",
   "version": "3.9.6"
  }
 },
 "nbformat": 4,
 "nbformat_minor": 2
}
