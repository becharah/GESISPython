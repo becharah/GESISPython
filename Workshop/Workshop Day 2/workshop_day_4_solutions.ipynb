{
 "cells": [
  {
   "cell_type": "markdown",
   "metadata": {},
   "source": [
    "## Final day, let's do some machine learning pipelines and predict!\n",
    "We want to predict the polarity measure based on only numerical values "
   ]
  },
  {
   "cell_type": "code",
   "execution_count": 1,
   "metadata": {},
   "outputs": [],
   "source": [
    "import pandas as pd\n",
    "url = \"https://raw.githubusercontent.com/becharah/GESISPython/main/Project/Climate_twitter.csv\"\n",
    "data = pd.read_csv(url)"
   ]
  },
  {
   "cell_type": "code",
   "execution_count": 2,
   "metadata": {},
   "outputs": [
    {
     "data": {
      "text/plain": [
       "id                int64\n",
       "date             object\n",
       "retweets          int64\n",
       "source           object\n",
       "author           object\n",
       "likes             int64\n",
       "text             object\n",
       "twitter_name     object\n",
       "location         object\n",
       "verified           bool\n",
       "followers         int64\n",
       "friends           int64\n",
       "polarity        float64\n",
       "subjectivity    float64\n",
       "dtype: object"
      ]
     },
     "execution_count": 2,
     "metadata": {},
     "output_type": "execute_result"
    }
   ],
   "source": [
    "# First we need to make sure we are only using numerical variables \n",
    "\n",
    "data = pd.read_csv(url)\n",
    "\n",
    "data.dtypes"
   ]
  },
  {
   "cell_type": "code",
   "execution_count": 30,
   "metadata": {},
   "outputs": [
    {
     "data": {
      "text/plain": [
       "verified\n",
       "0    375\n",
       "1     21\n",
       "Name: count, dtype: int64"
      ]
     },
     "execution_count": 30,
     "metadata": {},
     "output_type": "execute_result"
    }
   ],
   "source": [
    "# modify verified to 0 and 1\n",
    "data['verified'] = data['verified'].astype(int)\n",
    "\n",
    "data.verified.value_counts()"
   ]
  },
  {
   "cell_type": "code",
   "execution_count": 27,
   "metadata": {},
   "outputs": [],
   "source": [
    "# Create a new variable that counts the number of hashtags in each tweet\n",
    "data['hashtags'] = data['text'].str.count('#')\n"
   ]
  },
  {
   "cell_type": "code",
   "execution_count": 28,
   "metadata": {},
   "outputs": [],
   "source": [
    "# We will drop for now non-numeric variables\n",
    "data = data.drop(['id', 'date', 'source', 'author', 'text', 'twitter_name', 'location'], axis = 1)"
   ]
  },
  {
   "cell_type": "code",
   "execution_count": 31,
   "metadata": {},
   "outputs": [
    {
     "data": {
      "text/plain": [
       "retweets          int64\n",
       "likes             int64\n",
       "verified          int64\n",
       "followers         int64\n",
       "friends           int64\n",
       "polarity        float64\n",
       "subjectivity    float64\n",
       "hashtags          int64\n",
       "dtype: object"
      ]
     },
     "execution_count": 31,
     "metadata": {},
     "output_type": "execute_result"
    }
   ],
   "source": [
    "# Check data types again\n",
    "data.dtypes"
   ]
  },
  {
   "cell_type": "code",
   "execution_count": 35,
   "metadata": {},
   "outputs": [
    {
     "data": {
      "text/plain": [
       "<Axes: >"
      ]
     },
     "execution_count": 35,
     "metadata": {},
     "output_type": "execute_result"
    },
    {
     "data": {
      "image/png": "[encoded data removed]",
      "text/plain": [
       "<Figure size 640x480 with 1 Axes>"
      ]
     },
     "metadata": {},
     "output_type": "display_data"
    }
   ],
   "source": [
    "# We will inspect our target value, polarity\n",
    "data['polarity'].hist(bins=10)"
   ]
  },
  {
   "cell_type": "code",
   "execution_count": 36,
   "metadata": {},
   "outputs": [],
   "source": [
    "# Set data and target (x and y)\n",
    "data, target = data.drop(columns=\"polarity\"), data['polarity']"
   ]
  },
  {
   "cell_type": "code",
   "execution_count": 37,
   "metadata": {},
   "outputs": [
    {
     "data": {
      "text/plain": [
       "0     -0.054365\n",
       "1      0.387500\n",
       "2      0.261905\n",
       "3      0.000000\n",
       "4      0.000000\n",
       "         ...   \n",
       "391    0.000000\n",
       "392    0.194444\n",
       "393    0.286667\n",
       "394    0.000000\n",
       "395    0.112500\n",
       "Name: polarity, Length: 396, dtype: float64"
      ]
     },
     "execution_count": 37,
     "metadata": {},
     "output_type": "execute_result"
    }
   ],
   "source": [
    "# We can see the shape of our data again\n",
    "target"
   ]
  },
  {
   "cell_type": "code",
   "execution_count": 38,
   "metadata": {},
   "outputs": [],
   "source": [
    "# Now we will separate our data into train and test\n",
    "\n",
    "# Now we will separate our data into train and test\n",
    "\n",
    "from sklearn.model_selection import train_test_split\n",
    "\n",
    "data_train, data_test, target_train, target_test = train_test_split(\n",
    "    data, target, random_state=123, test_size=0.25\n",
    ")"
   ]
  },
  {
   "cell_type": "code",
   "execution_count": 39,
   "metadata": {},
   "outputs": [
    {
     "data": {
      "text/html": [
       "<div>\n",
       "<style scoped>\n",
       "    .dataframe tbody tr th:only-of-type {\n",
       "        vertical-align: middle;\n",
       "    }\n",
       "\n",
       "    .dataframe tbody tr th {\n",
       "        vertical-align: top;\n",
       "    }\n",
       "\n",
       "    .dataframe thead th {\n",
       "        text-align: right;\n",
       "    }\n",
       "</style>\n",
       "<table border=\"1\" class=\"dataframe\">\n",
       "  <thead>\n",
       "    <tr style=\"text-align: right;\">\n",
       "      <th></th>\n",
       "      <th>retweets</th>\n",
       "      <th>likes</th>\n",
       "      <th>verified</th>\n",
       "      <th>followers</th>\n",
       "      <th>friends</th>\n",
       "      <th>subjectivity</th>\n",
       "      <th>hashtags</th>\n",
       "    </tr>\n",
       "  </thead>\n",
       "  <tbody>\n",
       "    <tr>\n",
       "      <th>150</th>\n",
       "      <td>0</td>\n",
       "      <td>4</td>\n",
       "      <td>0</td>\n",
       "      <td>292</td>\n",
       "      <td>406</td>\n",
       "      <td>0.000000</td>\n",
       "      <td>0</td>\n",
       "    </tr>\n",
       "    <tr>\n",
       "      <th>42</th>\n",
       "      <td>0</td>\n",
       "      <td>0</td>\n",
       "      <td>0</td>\n",
       "      <td>2620</td>\n",
       "      <td>2656</td>\n",
       "      <td>0.417857</td>\n",
       "      <td>0</td>\n",
       "    </tr>\n",
       "    <tr>\n",
       "      <th>120</th>\n",
       "      <td>0</td>\n",
       "      <td>0</td>\n",
       "      <td>0</td>\n",
       "      <td>42</td>\n",
       "      <td>183</td>\n",
       "      <td>0.166667</td>\n",
       "      <td>1</td>\n",
       "    </tr>\n",
       "    <tr>\n",
       "      <th>102</th>\n",
       "      <td>0</td>\n",
       "      <td>0</td>\n",
       "      <td>0</td>\n",
       "      <td>288</td>\n",
       "      <td>21</td>\n",
       "      <td>0.687500</td>\n",
       "      <td>0</td>\n",
       "    </tr>\n",
       "    <tr>\n",
       "      <th>284</th>\n",
       "      <td>0</td>\n",
       "      <td>0</td>\n",
       "      <td>0</td>\n",
       "      <td>737</td>\n",
       "      <td>1784</td>\n",
       "      <td>0.079167</td>\n",
       "      <td>0</td>\n",
       "    </tr>\n",
       "    <tr>\n",
       "      <th>...</th>\n",
       "      <td>...</td>\n",
       "      <td>...</td>\n",
       "      <td>...</td>\n",
       "      <td>...</td>\n",
       "      <td>...</td>\n",
       "      <td>...</td>\n",
       "      <td>...</td>\n",
       "    </tr>\n",
       "    <tr>\n",
       "      <th>0</th>\n",
       "      <td>71</td>\n",
       "      <td>91</td>\n",
       "      <td>0</td>\n",
       "      <td>23415</td>\n",
       "      <td>20439</td>\n",
       "      <td>0.426984</td>\n",
       "      <td>1</td>\n",
       "    </tr>\n",
       "    <tr>\n",
       "      <th>162</th>\n",
       "      <td>0</td>\n",
       "      <td>2</td>\n",
       "      <td>0</td>\n",
       "      <td>1991</td>\n",
       "      <td>1839</td>\n",
       "      <td>0.033333</td>\n",
       "      <td>0</td>\n",
       "    </tr>\n",
       "    <tr>\n",
       "      <th>273</th>\n",
       "      <td>0</td>\n",
       "      <td>2</td>\n",
       "      <td>0</td>\n",
       "      <td>6709</td>\n",
       "      <td>7271</td>\n",
       "      <td>0.366667</td>\n",
       "      <td>0</td>\n",
       "    </tr>\n",
       "    <tr>\n",
       "      <th>324</th>\n",
       "      <td>0</td>\n",
       "      <td>0</td>\n",
       "      <td>0</td>\n",
       "      <td>69</td>\n",
       "      <td>168</td>\n",
       "      <td>0.000000</td>\n",
       "      <td>3</td>\n",
       "    </tr>\n",
       "    <tr>\n",
       "      <th>38</th>\n",
       "      <td>0</td>\n",
       "      <td>0</td>\n",
       "      <td>0</td>\n",
       "      <td>1331</td>\n",
       "      <td>3829</td>\n",
       "      <td>0.066667</td>\n",
       "      <td>0</td>\n",
       "    </tr>\n",
       "  </tbody>\n",
       "</table>\n",
       "<p>99 rows × 7 columns</p>\n",
       "</div>"
      ],
      "text/plain": [
       "     retweets  likes  verified  followers  friends  subjectivity  hashtags\n",
       "150         0      4         0        292      406      0.000000         0\n",
       "42          0      0         0       2620     2656      0.417857         0\n",
       "120         0      0         0         42      183      0.166667         1\n",
       "102         0      0         0        288       21      0.687500         0\n",
       "284         0      0         0        737     1784      0.079167         0\n",
       "..        ...    ...       ...        ...      ...           ...       ...\n",
       "0          71     91         0      23415    20439      0.426984         1\n",
       "162         0      2         0       1991     1839      0.033333         0\n",
       "273         0      2         0       6709     7271      0.366667         0\n",
       "324         0      0         0         69      168      0.000000         3\n",
       "38          0      0         0       1331     3829      0.066667         0\n",
       "\n",
       "[99 rows x 7 columns]"
      ]
     },
     "execution_count": 39,
     "metadata": {},
     "output_type": "execute_result"
    }
   ],
   "source": [
    "# how many samples are here?\n",
    "data_test"
   ]
  },
  {
   "cell_type": "code",
   "execution_count": 40,
   "metadata": {},
   "outputs": [
    {
     "data": {
      "text/plain": [
       "150    0.000000\n",
       "42     0.155952\n",
       "120    0.045455\n",
       "102   -0.062500\n",
       "284   -0.091667\n",
       "         ...   \n",
       "0     -0.054365\n",
       "162   -0.083333\n",
       "273    0.200000\n",
       "324    0.000000\n",
       "38     0.033333\n",
       "Name: polarity, Length: 99, dtype: float64"
      ]
     },
     "execution_count": 40,
     "metadata": {},
     "output_type": "execute_result"
    }
   ],
   "source": [
    "# how many samples are here?\n",
    "target_test"
   ]
  },
  {
   "cell_type": "code",
   "execution_count": 41,
   "metadata": {},
   "outputs": [
    {
     "name": "stdout",
     "output_type": "stream",
     "text": [
      "Number of samples in testing: 99 => 25.0% of the original set\n"
     ]
    }
   ],
   "source": [
    "print(\n",
    "    f\"Number of samples in testing: {data_test.shape[0]} => \"\n",
    "    f\"{data_test.shape[0] / data.shape[0] * 100:.1f}% of the\"\n",
    "    \" original set\"\n",
    ")"
   ]
  },
  {
   "cell_type": "code",
   "execution_count": 42,
   "metadata": {},
   "outputs": [
    {
     "name": "stdout",
     "output_type": "stream",
     "text": [
      "Number of samples in training: 297 => 75.0% of the original set\n"
     ]
    }
   ],
   "source": [
    "print(\n",
    "    f\"Number of samples in training: {data_train.shape[0]} => \"\n",
    "    f\"{data_train.shape[0] / data.shape[0] * 100:.1f}% of the\"\n",
    "    \" original set\"\n",
    ")"
   ]
  },
  {
   "cell_type": "code",
   "execution_count": 43,
   "metadata": {},
   "outputs": [],
   "source": [
    "# We first need to import the linear regression model and set it\n",
    "\n",
    "from sklearn.linear_model import LinearRegression\n",
    "\n",
    "model = LinearRegression()"
   ]
  },
  {
   "cell_type": "code",
   "execution_count": 44,
   "metadata": {},
   "outputs": [
    {
     "data": {
      "text/html": [
       "<style>#sk-container-id-2 {color: black;background-color: white;}#sk-container-id-2 pre{padding: 0;}#sk-container-id-2 div.sk-toggleable {background-color: white;}#sk-container-id-2 label.sk-toggleable__label {cursor: pointer;display: block;width: 100%;margin-bottom: 0;padding: 0.3em;box-sizing: border-box;text-align: center;}#sk-container-id-2 label.sk-toggleable__label-arrow:before {content: \"▸\";float: left;margin-right: 0.25em;color: #696969;}#sk-container-id-2 label.sk-toggleable__label-arrow:hover:before {color: black;}#sk-container-id-2 div.sk-estimator:hover label.sk-toggleable__label-arrow:before {color: black;}#sk-container-id-2 div.sk-toggleable__content {max-height: 0;max-width: 0;overflow: hidden;text-align: left;background-color: #f0f8ff;}#sk-container-id-2 div.sk-toggleable__content pre {margin: 0.2em;color: black;border-radius: 0.25em;background-color: #f0f8ff;}#sk-container-id-2 input.sk-toggleable__control:checked~div.sk-toggleable__content {max-height: 200px;max-width: 100%;overflow: auto;}#sk-container-id-2 input.sk-toggleable__control:checked~label.sk-toggleable__label-arrow:before {content: \"▾\";}#sk-container-id-2 div.sk-estimator input.sk-toggleable__control:checked~label.sk-toggleable__label {background-color: #d4ebff;}#sk-container-id-2 div.sk-label input.sk-toggleable__control:checked~label.sk-toggleable__label {background-color: #d4ebff;}#sk-container-id-2 input.sk-hidden--visually {border: 0;clip: rect(1px 1px 1px 1px);clip: rect(1px, 1px, 1px, 1px);height: 1px;margin: -1px;overflow: hidden;padding: 0;position: absolute;width: 1px;}#sk-container-id-2 div.sk-estimator {font-family: monospace;background-color: #f0f8ff;border: 1px dotted black;border-radius: 0.25em;box-sizing: border-box;margin-bottom: 0.5em;}#sk-container-id-2 div.sk-estimator:hover {background-color: #d4ebff;}#sk-container-id-2 div.sk-parallel-item::after {content: \"\";width: 100%;border-bottom: 1px solid gray;flex-grow: 1;}#sk-container-id-2 div.sk-label:hover label.sk-toggleable__label {background-color: #d4ebff;}#sk-container-id-2 div.sk-serial::before {content: \"\";position: absolute;border-left: 1px solid gray;box-sizing: border-box;top: 0;bottom: 0;left: 50%;z-index: 0;}#sk-container-id-2 div.sk-serial {display: flex;flex-direction: column;align-items: center;background-color: white;padding-right: 0.2em;padding-left: 0.2em;position: relative;}#sk-container-id-2 div.sk-item {position: relative;z-index: 1;}#sk-container-id-2 div.sk-parallel {display: flex;align-items: stretch;justify-content: center;background-color: white;position: relative;}#sk-container-id-2 div.sk-item::before, #sk-container-id-2 div.sk-parallel-item::before {content: \"\";position: absolute;border-left: 1px solid gray;box-sizing: border-box;top: 0;bottom: 0;left: 50%;z-index: -1;}#sk-container-id-2 div.sk-parallel-item {display: flex;flex-direction: column;z-index: 1;position: relative;background-color: white;}#sk-container-id-2 div.sk-parallel-item:first-child::after {align-self: flex-end;width: 50%;}#sk-container-id-2 div.sk-parallel-item:last-child::after {align-self: flex-start;width: 50%;}#sk-container-id-2 div.sk-parallel-item:only-child::after {width: 0;}#sk-container-id-2 div.sk-dashed-wrapped {border: 1px dashed gray;margin: 0 0.4em 0.5em 0.4em;box-sizing: border-box;padding-bottom: 0.4em;background-color: white;}#sk-container-id-2 div.sk-label label {font-family: monospace;font-weight: bold;display: inline-block;line-height: 1.2em;}#sk-container-id-2 div.sk-label-container {text-align: center;}#sk-container-id-2 div.sk-container {/* jupyter's `normalize.less` sets `[hidden] { display: none; }` but bootstrap.min.css set `[hidden] { display: none !important; }` so we also need the `!important` here to be able to override the default hidden behavior on the sphinx rendered scikit-learn.org. See: https://github.com/scikit-learn/scikit-learn/issues/21755 */display: inline-block !important;position: relative;}#sk-container-id-2 div.sk-text-repr-fallback {display: none;}</style><div id=\"sk-container-id-2\" class=\"sk-top-container\"><div class=\"sk-text-repr-fallback\"><pre>LinearRegression()</pre><b>In a Jupyter environment, please rerun this cell to show the HTML representation or trust the notebook. <br />On GitHub, the HTML representation is unable to render, please try loading this page with nbviewer.org.</b></div><div class=\"sk-container\" hidden><div class=\"sk-item\"><div class=\"sk-estimator sk-toggleable\"><input class=\"sk-toggleable__control sk-hidden--visually\" id=\"sk-estimator-id-2\" type=\"checkbox\" checked><label for=\"sk-estimator-id-2\" class=\"sk-toggleable__label sk-toggleable__label-arrow\">LinearRegression</label><div class=\"sk-toggleable__content\"><pre>LinearRegression()</pre></div></div></div></div></div>"
      ],
      "text/plain": [
       "LinearRegression()"
      ]
     },
     "execution_count": 44,
     "metadata": {},
     "output_type": "execute_result"
    }
   ],
   "source": [
    "# We can now fit\n",
    "model.fit(data_train, target_train)"
   ]
  },
  {
   "cell_type": "code",
   "execution_count": 45,
   "metadata": {},
   "outputs": [
    {
     "name": "stdout",
     "output_type": "stream",
     "text": [
      "[ 2.51960170e-03 -3.39617127e-04 -4.05480044e-02 -1.15651973e-07\n",
      " -4.16763170e-06  1.45419574e-01  1.24720820e-02]\n",
      "0.014402727593833025\n"
     ]
    }
   ],
   "source": [
    "# Get the regression values of the model\n",
    "print(model.coef_)\n",
    "print(model.intercept_)"
   ]
  },
  {
   "cell_type": "code",
   "execution_count": 46,
   "metadata": {},
   "outputs": [
    {
     "data": {
      "text/html": [
       "<div>\n",
       "<style scoped>\n",
       "    .dataframe tbody tr th:only-of-type {\n",
       "        vertical-align: middle;\n",
       "    }\n",
       "\n",
       "    .dataframe tbody tr th {\n",
       "        vertical-align: top;\n",
       "    }\n",
       "\n",
       "    .dataframe thead th {\n",
       "        text-align: right;\n",
       "    }\n",
       "</style>\n",
       "<table border=\"1\" class=\"dataframe\">\n",
       "  <thead>\n",
       "    <tr style=\"text-align: right;\">\n",
       "      <th></th>\n",
       "      <th>retweets</th>\n",
       "      <th>likes</th>\n",
       "      <th>verified</th>\n",
       "      <th>followers</th>\n",
       "      <th>friends</th>\n",
       "      <th>subjectivity</th>\n",
       "      <th>hashtags</th>\n",
       "    </tr>\n",
       "  </thead>\n",
       "  <tbody>\n",
       "    <tr>\n",
       "      <th>0</th>\n",
       "      <td>71</td>\n",
       "      <td>91</td>\n",
       "      <td>0</td>\n",
       "      <td>23415</td>\n",
       "      <td>20439</td>\n",
       "      <td>0.426984</td>\n",
       "      <td>1</td>\n",
       "    </tr>\n",
       "    <tr>\n",
       "      <th>1</th>\n",
       "      <td>14</td>\n",
       "      <td>98</td>\n",
       "      <td>0</td>\n",
       "      <td>6615</td>\n",
       "      <td>508</td>\n",
       "      <td>0.633333</td>\n",
       "      <td>0</td>\n",
       "    </tr>\n",
       "    <tr>\n",
       "      <th>2</th>\n",
       "      <td>0</td>\n",
       "      <td>1</td>\n",
       "      <td>0</td>\n",
       "      <td>22</td>\n",
       "      <td>133</td>\n",
       "      <td>0.345238</td>\n",
       "      <td>0</td>\n",
       "    </tr>\n",
       "    <tr>\n",
       "      <th>3</th>\n",
       "      <td>0</td>\n",
       "      <td>0</td>\n",
       "      <td>0</td>\n",
       "      <td>4191</td>\n",
       "      <td>3708</td>\n",
       "      <td>0.000000</td>\n",
       "      <td>1</td>\n",
       "    </tr>\n",
       "    <tr>\n",
       "      <th>4</th>\n",
       "      <td>1</td>\n",
       "      <td>1</td>\n",
       "      <td>0</td>\n",
       "      <td>4191</td>\n",
       "      <td>3708</td>\n",
       "      <td>0.000000</td>\n",
       "      <td>2</td>\n",
       "    </tr>\n",
       "    <tr>\n",
       "      <th>...</th>\n",
       "      <td>...</td>\n",
       "      <td>...</td>\n",
       "      <td>...</td>\n",
       "      <td>...</td>\n",
       "      <td>...</td>\n",
       "      <td>...</td>\n",
       "      <td>...</td>\n",
       "    </tr>\n",
       "    <tr>\n",
       "      <th>391</th>\n",
       "      <td>0</td>\n",
       "      <td>0</td>\n",
       "      <td>0</td>\n",
       "      <td>132</td>\n",
       "      <td>132</td>\n",
       "      <td>0.000000</td>\n",
       "      <td>1</td>\n",
       "    </tr>\n",
       "    <tr>\n",
       "      <th>392</th>\n",
       "      <td>0</td>\n",
       "      <td>0</td>\n",
       "      <td>0</td>\n",
       "      <td>286</td>\n",
       "      <td>156</td>\n",
       "      <td>0.494444</td>\n",
       "      <td>0</td>\n",
       "    </tr>\n",
       "    <tr>\n",
       "      <th>393</th>\n",
       "      <td>0</td>\n",
       "      <td>0</td>\n",
       "      <td>0</td>\n",
       "      <td>286</td>\n",
       "      <td>156</td>\n",
       "      <td>0.466667</td>\n",
       "      <td>0</td>\n",
       "    </tr>\n",
       "    <tr>\n",
       "      <th>394</th>\n",
       "      <td>0</td>\n",
       "      <td>0</td>\n",
       "      <td>0</td>\n",
       "      <td>478</td>\n",
       "      <td>738</td>\n",
       "      <td>0.000000</td>\n",
       "      <td>0</td>\n",
       "    </tr>\n",
       "    <tr>\n",
       "      <th>395</th>\n",
       "      <td>1</td>\n",
       "      <td>0</td>\n",
       "      <td>0</td>\n",
       "      <td>17704</td>\n",
       "      <td>1370</td>\n",
       "      <td>0.625000</td>\n",
       "      <td>0</td>\n",
       "    </tr>\n",
       "  </tbody>\n",
       "</table>\n",
       "<p>396 rows × 7 columns</p>\n",
       "</div>"
      ],
      "text/plain": [
       "     retweets  likes  verified  followers  friends  subjectivity  hashtags\n",
       "0          71     91         0      23415    20439      0.426984         1\n",
       "1          14     98         0       6615      508      0.633333         0\n",
       "2           0      1         0         22      133      0.345238         0\n",
       "3           0      0         0       4191     3708      0.000000         1\n",
       "4           1      1         0       4191     3708      0.000000         2\n",
       "..        ...    ...       ...        ...      ...           ...       ...\n",
       "391         0      0         0        132      132      0.000000         1\n",
       "392         0      0         0        286      156      0.494444         0\n",
       "393         0      0         0        286      156      0.466667         0\n",
       "394         0      0         0        478      738      0.000000         0\n",
       "395         1      0         0      17704     1370      0.625000         0\n",
       "\n",
       "[396 rows x 7 columns]"
      ]
     },
     "execution_count": 46,
     "metadata": {},
     "output_type": "execute_result"
    }
   ],
   "source": [
    "# This is the data we used to predict number of friends\n",
    "data"
   ]
  },
  {
   "cell_type": "code",
   "execution_count": 47,
   "metadata": {},
   "outputs": [
    {
     "name": "stderr",
     "output_type": "stream",
     "text": [
      "/Users/paulina/Library/Python/3.9/lib/python/site-packages/sklearn/base.py:439: UserWarning: X does not have valid feature names, but LinearRegression was fitted with feature names\n",
      "  warnings.warn(\n"
     ]
    },
    {
     "data": {
      "text/plain": [
       "array([0.08315583])"
      ]
     },
     "execution_count": 47,
     "metadata": {},
     "output_type": "execute_result"
    }
   ],
   "source": [
    "# Let's make a fake tweet and predict the number of friends\n",
    "\n",
    "# some value for retweets, likes, verified, followers, friends, subjectivity & hashtags\n",
    "\n",
    "model.predict([[0, 10, 0, 234, 3523, 0.34, 3]])"
   ]
  },
  {
   "cell_type": "markdown",
   "metadata": {},
   "source": [
    "# Let's one hot encode"
   ]
  },
  {
   "cell_type": "code",
   "execution_count": 96,
   "metadata": {},
   "outputs": [
    {
     "data": {
      "text/html": [
       "<div>\n",
       "<style scoped>\n",
       "    .dataframe tbody tr th:only-of-type {\n",
       "        vertical-align: middle;\n",
       "    }\n",
       "\n",
       "    .dataframe tbody tr th {\n",
       "        vertical-align: top;\n",
       "    }\n",
       "\n",
       "    .dataframe thead th {\n",
       "        text-align: right;\n",
       "    }\n",
       "</style>\n",
       "<table border=\"1\" class=\"dataframe\">\n",
       "  <thead>\n",
       "    <tr style=\"text-align: right;\">\n",
       "      <th></th>\n",
       "      <th>id</th>\n",
       "      <th>date</th>\n",
       "      <th>retweets</th>\n",
       "      <th>source</th>\n",
       "      <th>author</th>\n",
       "      <th>likes</th>\n",
       "      <th>text</th>\n",
       "      <th>twitter_name</th>\n",
       "      <th>location</th>\n",
       "      <th>verified</th>\n",
       "      <th>followers</th>\n",
       "      <th>friends</th>\n",
       "      <th>polarity</th>\n",
       "      <th>subjectivity</th>\n",
       "      <th>continent</th>\n",
       "    </tr>\n",
       "  </thead>\n",
       "  <tbody>\n",
       "    <tr>\n",
       "      <th>1</th>\n",
       "      <td>508658626</td>\n",
       "      <td>2020-12-10 14:30:00</td>\n",
       "      <td>14</td>\n",
       "      <td>Twitter for Advertisers</td>\n",
       "      <td>Elsevier Energy</td>\n",
       "      <td>98</td>\n",
       "      <td>@Elsevier and the @EditorsinChief are pleased ...</td>\n",
       "      <td>ElsevierEnergy</td>\n",
       "      <td>Oxford, England</td>\n",
       "      <td>False</td>\n",
       "      <td>6615</td>\n",
       "      <td>508</td>\n",
       "      <td>0.387500</td>\n",
       "      <td>0.633333</td>\n",
       "      <td>Europe</td>\n",
       "    </tr>\n",
       "    <tr>\n",
       "      <th>2</th>\n",
       "      <td>2607105006</td>\n",
       "      <td>2020-12-22 21:28:52</td>\n",
       "      <td>0</td>\n",
       "      <td>Twitter Web App</td>\n",
       "      <td>Arwyn Thomas</td>\n",
       "      <td>1</td>\n",
       "      <td>From better climate change education to improv...</td>\n",
       "      <td>siwarr5</td>\n",
       "      <td>Carmarthen</td>\n",
       "      <td>False</td>\n",
       "      <td>22</td>\n",
       "      <td>133</td>\n",
       "      <td>0.261905</td>\n",
       "      <td>0.345238</td>\n",
       "      <td>South America</td>\n",
       "    </tr>\n",
       "    <tr>\n",
       "      <th>3</th>\n",
       "      <td>19609660</td>\n",
       "      <td>2020-12-22 21:24:10</td>\n",
       "      <td>0</td>\n",
       "      <td>Twitter Web App</td>\n",
       "      <td>Tom Gillispie, EDITOR/WRITER</td>\n",
       "      <td>0</td>\n",
       "      <td>climate change Links to FIXING CLIMATE CHANGE ...</td>\n",
       "      <td>EDITORatWORK</td>\n",
       "      <td>Rural Hall, North Carolina, USA</td>\n",
       "      <td>False</td>\n",
       "      <td>4191</td>\n",
       "      <td>3708</td>\n",
       "      <td>0.000000</td>\n",
       "      <td>0.000000</td>\n",
       "      <td>Europe</td>\n",
       "    </tr>\n",
       "    <tr>\n",
       "      <th>4</th>\n",
       "      <td>19609660</td>\n",
       "      <td>2020-12-21 22:52:09</td>\n",
       "      <td>1</td>\n",
       "      <td>Twitter Web App</td>\n",
       "      <td>Tom Gillispie, EDITOR/WRITER</td>\n",
       "      <td>1</td>\n",
       "      <td>climate change The 11TH HOUR FOR THE EARTH #cl...</td>\n",
       "      <td>EDITORatWORK</td>\n",
       "      <td>Rural Hall, North Carolina, USA</td>\n",
       "      <td>False</td>\n",
       "      <td>4191</td>\n",
       "      <td>3708</td>\n",
       "      <td>0.000000</td>\n",
       "      <td>0.000000</td>\n",
       "      <td>Europe</td>\n",
       "    </tr>\n",
       "    <tr>\n",
       "      <th>5</th>\n",
       "      <td>18210270</td>\n",
       "      <td>2020-12-21 15:45:12</td>\n",
       "      <td>0</td>\n",
       "      <td>Hootsuite Inc.</td>\n",
       "      <td>MapsofWorld</td>\n",
       "      <td>0</td>\n",
       "      <td>For years now scientists and governments have ...</td>\n",
       "      <td>mapsofworld</td>\n",
       "      <td>San Jose, US</td>\n",
       "      <td>False</td>\n",
       "      <td>5292</td>\n",
       "      <td>130</td>\n",
       "      <td>-0.121875</td>\n",
       "      <td>0.325000</td>\n",
       "      <td>Asia</td>\n",
       "    </tr>\n",
       "    <tr>\n",
       "      <th>...</th>\n",
       "      <td>...</td>\n",
       "      <td>...</td>\n",
       "      <td>...</td>\n",
       "      <td>...</td>\n",
       "      <td>...</td>\n",
       "      <td>...</td>\n",
       "      <td>...</td>\n",
       "      <td>...</td>\n",
       "      <td>...</td>\n",
       "      <td>...</td>\n",
       "      <td>...</td>\n",
       "      <td>...</td>\n",
       "      <td>...</td>\n",
       "      <td>...</td>\n",
       "      <td>...</td>\n",
       "    </tr>\n",
       "    <tr>\n",
       "      <th>389</th>\n",
       "      <td>3301926908</td>\n",
       "      <td>2020-01-03 15:34:19</td>\n",
       "      <td>0</td>\n",
       "      <td>Gridpointwx</td>\n",
       "      <td>GridPointWeather</td>\n",
       "      <td>0</td>\n",
       "      <td>#CLIMATE Change Study Found Consistent Evidenc...</td>\n",
       "      <td>gridpointwx</td>\n",
       "      <td>New York, USA</td>\n",
       "      <td>False</td>\n",
       "      <td>198</td>\n",
       "      <td>58</td>\n",
       "      <td>0.125000</td>\n",
       "      <td>0.125000</td>\n",
       "      <td>Africa</td>\n",
       "    </tr>\n",
       "    <tr>\n",
       "      <th>391</th>\n",
       "      <td>54992908</td>\n",
       "      <td>2020-01-03 12:29:11</td>\n",
       "      <td>0</td>\n",
       "      <td>Twitter Web App</td>\n",
       "      <td>Sascha Becher</td>\n",
       "      <td>0</td>\n",
       "      <td>An Inconsistent Truth From global cooling 1970...</td>\n",
       "      <td>SaschaBecher</td>\n",
       "      <td>Deutschland</td>\n",
       "      <td>False</td>\n",
       "      <td>132</td>\n",
       "      <td>132</td>\n",
       "      <td>0.000000</td>\n",
       "      <td>0.000000</td>\n",
       "      <td>Europe</td>\n",
       "    </tr>\n",
       "    <tr>\n",
       "      <th>392</th>\n",
       "      <td>209636315</td>\n",
       "      <td>2020-01-02 08:38:37</td>\n",
       "      <td>0</td>\n",
       "      <td>Twitter for iPhone</td>\n",
       "      <td>Morgan Fitzgibbon</td>\n",
       "      <td>0</td>\n",
       "      <td>2 climate thought alongside Einstein Robert Op...</td>\n",
       "      <td>morganefitz</td>\n",
       "      <td>Cork, Ireland</td>\n",
       "      <td>False</td>\n",
       "      <td>286</td>\n",
       "      <td>156</td>\n",
       "      <td>0.194444</td>\n",
       "      <td>0.494444</td>\n",
       "      <td>Europe</td>\n",
       "    </tr>\n",
       "    <tr>\n",
       "      <th>393</th>\n",
       "      <td>209636315</td>\n",
       "      <td>2020-01-02 08:35:52</td>\n",
       "      <td>0</td>\n",
       "      <td>Twitter for iPhone</td>\n",
       "      <td>Morgan Fitzgibbon</td>\n",
       "      <td>0</td>\n",
       "      <td>3 climate used as supporting evidence that man...</td>\n",
       "      <td>morganefitz</td>\n",
       "      <td>Cork, Ireland</td>\n",
       "      <td>False</td>\n",
       "      <td>286</td>\n",
       "      <td>156</td>\n",
       "      <td>0.286667</td>\n",
       "      <td>0.466667</td>\n",
       "      <td>Europe</td>\n",
       "    </tr>\n",
       "    <tr>\n",
       "      <th>395</th>\n",
       "      <td>95418595</td>\n",
       "      <td>2020-01-01 00:15:07</td>\n",
       "      <td>1</td>\n",
       "      <td>Hootsuite Inc.</td>\n",
       "      <td>Daily Climate</td>\n",
       "      <td>0</td>\n",
       "      <td>Its feared that climate change will make hot c...</td>\n",
       "      <td>TheDailyClimate</td>\n",
       "      <td>Bozeman, Mont.</td>\n",
       "      <td>False</td>\n",
       "      <td>17704</td>\n",
       "      <td>1370</td>\n",
       "      <td>0.112500</td>\n",
       "      <td>0.625000</td>\n",
       "      <td>South America</td>\n",
       "    </tr>\n",
       "  </tbody>\n",
       "</table>\n",
       "<p>280 rows × 15 columns</p>\n",
       "</div>"
      ],
      "text/plain": [
       "             id                 date  retweets                   source  \\\n",
       "1     508658626  2020-12-10 14:30:00        14  Twitter for Advertisers   \n",
       "2    2607105006  2020-12-22 21:28:52         0          Twitter Web App   \n",
       "3      19609660  2020-12-22 21:24:10         0          Twitter Web App   \n",
       "4      19609660  2020-12-21 22:52:09         1          Twitter Web App   \n",
       "5      18210270  2020-12-21 15:45:12         0           Hootsuite Inc.   \n",
       "..          ...                  ...       ...                      ...   \n",
       "389  3301926908  2020-01-03 15:34:19         0              Gridpointwx   \n",
       "391    54992908  2020-01-03 12:29:11         0          Twitter Web App   \n",
       "392   209636315  2020-01-02 08:38:37         0       Twitter for iPhone   \n",
       "393   209636315  2020-01-02 08:35:52         0       Twitter for iPhone   \n",
       "395    95418595  2020-01-01 00:15:07         1           Hootsuite Inc.   \n",
       "\n",
       "                           author  likes  \\\n",
       "1                 Elsevier Energy     98   \n",
       "2                    Arwyn Thomas      1   \n",
       "3    Tom Gillispie, EDITOR/WRITER      0   \n",
       "4    Tom Gillispie, EDITOR/WRITER      1   \n",
       "5                     MapsofWorld      0   \n",
       "..                            ...    ...   \n",
       "389              GridPointWeather      0   \n",
       "391                 Sascha Becher      0   \n",
       "392             Morgan Fitzgibbon      0   \n",
       "393             Morgan Fitzgibbon      0   \n",
       "395                 Daily Climate      0   \n",
       "\n",
       "                                                  text     twitter_name  \\\n",
       "1    @Elsevier and the @EditorsinChief are pleased ...   ElsevierEnergy   \n",
       "2    From better climate change education to improv...          siwarr5   \n",
       "3    climate change Links to FIXING CLIMATE CHANGE ...     EDITORatWORK   \n",
       "4    climate change The 11TH HOUR FOR THE EARTH #cl...     EDITORatWORK   \n",
       "5    For years now scientists and governments have ...      mapsofworld   \n",
       "..                                                 ...              ...   \n",
       "389  #CLIMATE Change Study Found Consistent Evidenc...      gridpointwx   \n",
       "391  An Inconsistent Truth From global cooling 1970...     SaschaBecher   \n",
       "392  2 climate thought alongside Einstein Robert Op...      morganefitz   \n",
       "393  3 climate used as supporting evidence that man...      morganefitz   \n",
       "395  Its feared that climate change will make hot c...  TheDailyClimate   \n",
       "\n",
       "                            location  verified  followers  friends  polarity  \\\n",
       "1                    Oxford, England     False       6615      508  0.387500   \n",
       "2                         Carmarthen     False         22      133  0.261905   \n",
       "3    Rural Hall, North Carolina, USA     False       4191     3708  0.000000   \n",
       "4    Rural Hall, North Carolina, USA     False       4191     3708  0.000000   \n",
       "5                       San Jose, US     False       5292      130 -0.121875   \n",
       "..                               ...       ...        ...      ...       ...   \n",
       "389                    New York, USA     False        198       58  0.125000   \n",
       "391                      Deutschland     False        132      132  0.000000   \n",
       "392                    Cork, Ireland     False        286      156  0.194444   \n",
       "393                    Cork, Ireland     False        286      156  0.286667   \n",
       "395                   Bozeman, Mont.     False      17704     1370  0.112500   \n",
       "\n",
       "     subjectivity      continent  \n",
       "1        0.633333         Europe  \n",
       "2        0.345238  South America  \n",
       "3        0.000000         Europe  \n",
       "4        0.000000         Europe  \n",
       "5        0.325000           Asia  \n",
       "..            ...            ...  \n",
       "389      0.125000         Africa  \n",
       "391      0.000000         Europe  \n",
       "392      0.494444         Europe  \n",
       "393      0.466667         Europe  \n",
       "395      0.625000  South America  \n",
       "\n",
       "[280 rows x 15 columns]"
      ]
     },
     "execution_count": 96,
     "metadata": {},
     "output_type": "execute_result"
    }
   ],
   "source": [
    "data"
   ]
  },
  {
   "cell_type": "code",
   "execution_count": 92,
   "metadata": {},
   "outputs": [
    {
     "name": "stdout",
     "output_type": "stream",
     "text": [
      "location\n",
      "Earth                              15\n",
      "United States                       8\n",
      "Rural Hall, North Carolina, USA     8\n",
      "India                               7\n",
      "Rural Hall, NC                      7\n",
      "                                   ..\n",
      "Chicago Illinois                    1\n",
      "Washington, DC; London, UK          1\n",
      "Prenzlauer Berg, Berlin, DE         1\n",
      "Adelaide, South Australia           1\n",
      "Deutschland                         1\n",
      "Name: count, Length: 186, dtype: int64\n"
     ]
    }
   ],
   "source": [
    "# We think that we need to include some categorical variables in the model, such as where people are roughly located\n",
    "data = pd.read_csv(url)\n",
    "print(data.location.value_counts())"
   ]
  },
  {
   "cell_type": "code",
   "execution_count": 93,
   "metadata": {},
   "outputs": [],
   "source": [
    "data.dropna(subset=['location'], inplace=True)\n",
    "\n",
    "locations = data['location'].tolist()"
   ]
  },
  {
   "cell_type": "code",
   "execution_count": 94,
   "metadata": {},
   "outputs": [
    {
     "name": "stdout",
     "output_type": "stream",
     "text": [
      "['Europe', 'South America', 'Europe', 'Europe', 'Asia', 'South America', 'Europe', 'South America', 'South America', 'South America', 'Asia', 'South America', 'North America', 'Europe', 'South America', 'Asia', 'Asia', None, 'Europe', 'Europe', 'Asia', 'Asia', 'Asia', 'Asia', 'Asia', 'Oceania', 'South America', 'South America', 'North America', 'Europe', 'Europe', 'South America', 'South America', 'South America', 'South America', 'North America', 'Europe', 'Oceania', 'Asia', 'Oceania', 'Europe', 'Europe', 'South America', 'South America', 'South America', 'South America', 'Asia', 'Oceania', None, 'South America', 'North America', 'Europe', 'South America', 'Africa', 'South America', 'South America', 'South America', 'Europe', 'South America', 'Oceania', 'Europe', 'Europe', 'North America', 'North America', 'Asia', 'Europe', 'Europe', 'Asia', 'Oceania', 'Africa', 'Asia', None, 'Europe', 'Europe', 'North America', 'Europe', 'Europe', 'Asia', 'South America', 'Africa', 'Africa', 'Africa', 'South America', 'North America', 'North America', 'Europe', 'Africa', 'South America', 'Africa', 'North America', 'Europe', 'Europe', 'Oceania', 'Oceania', 'Europe', 'Africa', 'Europe', 'Asia', 'Africa', 'South America', 'North America', 'Europe', 'Oceania', 'Asia', 'Asia', 'South America', 'Europe', 'North America', 'North America', 'South America', 'Oceania', 'Europe', 'North America', 'Europe', 'Oceania', 'Oceania', 'North America', 'Europe', 'Africa', 'South America', None, 'Europe', 'North America', 'Asia', 'Oceania', 'Europe', 'Europe', 'Europe', 'Europe', 'South America', 'Asia', 'Europe', 'Asia', 'Europe', 'Europe', 'Europe', 'North America', 'North America', 'Europe', 'North America', 'South America', 'Europe', 'South America', 'Asia', 'Europe', 'South America', 'South America', 'Asia', 'North America', 'South America', 'Asia', 'Europe', 'Europe', 'Europe', 'Europe', None, 'Asia', 'Oceania', None, 'North America', 'North America', 'Asia', 'Asia', 'Oceania', 'South America', 'North America', 'North America', 'Europe', 'Asia', 'South America', 'North America', 'South America', 'Europe', 'Africa', None, 'Europe', 'Europe', 'North America', 'Africa', 'Africa', 'Asia', 'North America', 'Europe', 'Europe', 'Europe', 'Europe', 'Africa', 'Europe', 'Europe', 'Africa', 'Asia', 'Europe', 'Europe', 'Africa', 'Europe', 'Africa', 'Europe', 'Asia', 'North America', 'Asia', 'South America', 'Oceania', 'Oceania', 'Asia', 'Oceania', 'North America', 'North America', 'Europe', 'Europe', 'Oceania', 'South America', 'North America', 'Europe', None, 'Europe', 'Europe', 'Europe', 'Europe', 'Europe', 'Africa', 'Asia', 'North America', 'Europe', 'Europe', 'South America', 'Oceania', 'Asia', 'Oceania', 'Asia', 'Asia', None, 'Oceania', None, 'South America', 'Asia', 'North America', 'Asia', 'Europe', 'South America', 'South America', 'Asia', 'Africa', 'North America', 'North America', 'Asia', None, 'Africa', 'Asia', 'Europe', 'Europe', 'Europe', 'Asia', 'Asia', 'Asia', 'Europe', 'Africa', 'North America', 'Europe', 'Oceania', 'Oceania', 'Africa', 'Asia', 'South America', 'North America', 'North America', 'Asia', 'South America', 'Africa', 'Europe', 'North America', 'North America', 'Africa', 'Europe', 'Europe', 'Europe', 'Europe', 'Africa', 'Oceania', 'Europe', 'Europe', 'Europe', 'South America', 'Asia', 'Europe', 'Europe', 'Europe', 'Africa', None, 'Europe', 'Europe', 'Europe', None, 'South America']\n"
     ]
    }
   ],
   "source": [
    "import pycountry_convert as pc\n",
    "\n",
    "# Mapping continents to their codes\n",
    "continent_codes = {\n",
    "    \"NA\": \"North America\",\n",
    "    \"SA\": \"South America\",\n",
    "    \"AS\": \"Asia\",\n",
    "    \"EU\": \"Europe\",\n",
    "    \"AF\": \"Africa\",\n",
    "    \"OC\": \"Oceania\",\n",
    "    \"AN\": \"Antarctica\"\n",
    "}\n",
    "\n",
    "# Function to get continent from country\n",
    "def get_continent_from_country(country_name):\n",
    "    try:\n",
    "        country_code = pycountry.countries.get(name=country_name).alpha_2\n",
    "        continent_code = pc.country_alpha2_to_continent_code(country_code)\n",
    "        return continent_codes[continent_code]\n",
    "    except Exception as e:\n",
    "        return None\n",
    "\n",
    "# Combining the previous code\n",
    "def get_continent_from_location(location):\n",
    "    country_name = get_country_from_location(location)\n",
    "    if country_name:\n",
    "        return get_continent_from_country(country_name)\n",
    "    return None\n",
    "\n",
    "# Extracting continent names\n",
    "continent_names = [get_continent_from_location(location) for location in locations]\n",
    "print(continent_names)\n"
   ]
  }
 ],
 "metadata": {
  "kernelspec": {
   "display_name": "Python 3",
   "language": "python",
   "name": "python3"
  },
  "language_info": {
   "codemirror_mode": {
    "name": "ipython",
    "version": 3
   },
   "file_extension": ".py",
   "mimetype": "text/x-python",
   "name": "python",
   "nbconvert_exporter": "python",
   "pygments_lexer": "ipython3",
   "version": "3.9.6"
  }
 },
 "nbformat": 4,
 "nbformat_minor": 2
}
