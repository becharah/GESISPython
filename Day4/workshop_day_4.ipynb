{
 "cells": [
  {
   "cell_type": "markdown",
   "metadata": {},
   "source": [
    "## Final day, let's do some machine learning pipelines and predict!"
   ]
  },
  {
   "cell_type": "markdown",
   "metadata": {},
   "source": [
    "We will begin with a simple dataset.\n",
    "\n",
    "The dataset contains pinguing data from the Palmer Archipelago in Antarctica.\n",
    "\n",
    "The data was collected and made available by Dr. Kristen Gorman and the Palmer Station, Antarctica LTER.\n",
    "\n",
    "The penguin section is based on https://inria.github.io/scikit-learn-mooc/toc.html by By scikit-learn developers\n",
    "© Copyright 2022-2024.\n",
    "Brought to you under a CC-BY License by Inria Learning Lab, scikit-learn @ La Fondation Inria, Inria Academy."
   ]
  },
  {
   "cell_type": "code",
   "execution_count": null,
   "metadata": {},
   "outputs": [],
   "source": [
    "# Import the required libraries\n",
    "import pandas as pd\n",
    "import seaborn as sns\n",
    "import matplotlib.pyplot as plt\n",
    "\n",
    "# Load the dataset\n",
    "penguins = pd.read_csv(\"https://raw.githubusercontent.com/mwaskom/seaborn-data/master/penguins.csv\")\n",
    "\n",
    "# Display the first few rows of the dataset\n",
    "\n",
    "\n",
    "# Display the number of missing values in each column\n",
    "\n",
    "\n",
    "# The dataset contains missing values, we should clean it.\n",
    "# We will then use the seaborn library to visualize the data.\n",
    "\n",
    "# Drop rows with missing values\n",
    "\n",
    "\n",
    "# Display the number of missing values in each column after dropping rows with missing values\n",
    "\n",
    "\n",
    "# Visualize the data using a pairplot\n",
    "\n"
   ]
  },
  {
   "cell_type": "code",
   "execution_count": null,
   "metadata": {},
   "outputs": [],
   "source": [
    "# Let's set the feature and target column  \n"
   ]
  },
  {
   "cell_type": "code",
   "execution_count": null,
   "metadata": {},
   "outputs": [],
   "source": [
    "# Let's import the LinearRegression class from the sklearn library and fit the model to the data\n",
    "\n",
    "\n",
    "# Set the x and y values\n",
    "\n",
    "\n",
    "# Create a LinearRegression model and fit it to the data\n"
   ]
  },
  {
   "cell_type": "code",
   "execution_count": null,
   "metadata": {},
   "outputs": [],
   "source": [
    "# We check the coefficient and intercept of the model, as well as the R^2 value\n"
   ]
  },
  {
   "cell_type": "code",
   "execution_count": null,
   "metadata": {},
   "outputs": [],
   "source": [
    "# Compute the mean squared error\n"
   ]
  },
  {
   "cell_type": "code",
   "execution_count": null,
   "metadata": {},
   "outputs": [],
   "source": [
    "# However this is not machine learning, we are just fitting a line to the data.\n",
    "# We should split the data into training and testing sets, and then evaluate the model on the testing set.\n",
    "\n",
    "\n",
    "\n",
    "# Split the data into training and testing sets\n",
    "\n",
    "\n",
    "# Create a LinearRegression model and fit it to the training data\n",
    "\n",
    "\n",
    "# Compute the mean squared error on the testing set\n",
    "\n"
   ]
  },
  {
   "cell_type": "markdown",
   "metadata": {},
   "source": [
    "We can also do classification using the same dataset\n",
    "We will use the flipper_length_mm and body_mass_g columns to predict the species of penguins"
   ]
  },
  {
   "cell_type": "code",
   "execution_count": 17,
   "metadata": {},
   "outputs": [],
   "source": [
    "# Only keep two species for this exercise\n"
   ]
  },
  {
   "cell_type": "code",
   "execution_count": 18,
   "metadata": {},
   "outputs": [],
   "source": [
    "# Set the variables that the model will use to predict species. \n"
   ]
  },
  {
   "cell_type": "code",
   "execution_count": 19,
   "metadata": {},
   "outputs": [],
   "source": [
    "# Split the data into training and testing sets\n",
    "\n",
    "from sklearn.model_selection import train_test_split\n",
    "\n"
   ]
  },
  {
   "cell_type": "code",
   "execution_count": null,
   "metadata": {},
   "outputs": [],
   "source": [
    "# Create a LogisticRegression model and fit it to the training data\n",
    "\n",
    "from sklearn.linear_model import LogisticRegression\n",
    "\n"
   ]
  },
  {
   "cell_type": "code",
   "execution_count": null,
   "metadata": {},
   "outputs": [],
   "source": [
    "# Let's see our model in action\n",
    "\n",
    "import seaborn as sns\n",
    "from sklearn.inspection import DecisionBoundaryDisplay\n",
    "\n",
    "DecisionBoundaryDisplay.from_estimator(\n",
    "    logistic_regression,\n",
    "    data_test,\n",
    "    response_method=\"predict\",\n",
    "    cmap=\"RdBu_r\",\n",
    "    alpha=0.5,\n",
    ")\n",
    "sns.scatterplot(\n",
    "    data=penguins_test,\n",
    "    x=bill_columns[0],\n",
    "    y=bill_columns[1],\n",
    "    hue=species_column,\n",
    "    palette=[\"tab:red\", \"tab:blue\"],\n",
    ")\n",
    "_ = plt.title(\"Decision boundary of the trained\\n LogisticRegression\")"
   ]
  },
  {
   "cell_type": "markdown",
   "metadata": {},
   "source": [
    "## Let's move on to our twitter data and make a model for the polarity value of our tweets."
   ]
  },
  {
   "cell_type": "code",
   "execution_count": 32,
   "metadata": {},
   "outputs": [],
   "source": [
    "import pandas as pd\n",
    "url = \"https://raw.githubusercontent.com/becharah/GESISPython/main/Project/Climate_twitter.csv\"\n",
    "data = pd.read_csv(url)"
   ]
  },
  {
   "cell_type": "code",
   "execution_count": null,
   "metadata": {},
   "outputs": [],
   "source": [
    "# You try now \n",
    "\n",
    "# 1. Display the first few rows of the dataset and data types\n",
    "\n",
    "\n",
    "# 2. Display the number of missing values in each column\n",
    "\n",
    "\n",
    "# 3. The dataset contains missing values, we should clean it.\n",
    "\n",
    "\n",
    "# 4. Display the number of missing values in each column after dropping rows with missing values\n"
   ]
  },
  {
   "cell_type": "code",
   "execution_count": null,
   "metadata": {},
   "outputs": [],
   "source": [
    "\n",
    "# 5. We only wish to keep numerical columns for this exercise, so we will drop the non-numerical columns.\n",
    "\n",
    "# 5a. First, transform the validated column to a numerical column\n",
    "\n",
    "\n",
    "# 5b. Drop the non-numerical columns\n"
   ]
  },
  {
   "cell_type": "code",
   "execution_count": 53,
   "metadata": {},
   "outputs": [],
   "source": [
    "# ML steps\n",
    "\n",
    "# 6. Set the x and y columns\n",
    "\n",
    "\n",
    "# 7. Split the data into training and testing sets\n",
    "\n"
   ]
  },
  {
   "cell_type": "code",
   "execution_count": null,
   "metadata": {},
   "outputs": [],
   "source": [
    "# 8. Create a LinearRegression model and fit it to the training data\n"
   ]
  },
  {
   "cell_type": "code",
   "execution_count": null,
   "metadata": {},
   "outputs": [],
   "source": [
    "# 9. Compute the mean squared error on the testing set\n"
   ]
  },
  {
   "cell_type": "markdown",
   "metadata": {},
   "source": [
    "We can try another model type see if this makes it better!"
   ]
  },
  {
   "cell_type": "code",
   "execution_count": null,
   "metadata": {},
   "outputs": [],
   "source": [
    "# 10. Create a LogisticRegression model and fit it to the training data\n",
    "\n",
    "# 11. We need to transform the target column into a categorical column,\n",
    "# where less than 0 is negative, above 0 is positive.\n",
    "\n",
    "\n",
    "# 12. Set the feature and target columns\n",
    "\n",
    "\n",
    "# 13. Split the data into training and testing sets\n",
    "\n",
    "\n",
    "# 14. Compute the accuracy of the model on the testing set\n"
   ]
  },
  {
   "cell_type": "code",
   "execution_count": null,
   "metadata": {},
   "outputs": [],
   "source": [
    "# 15. Display the confusion matrix of the model on the tesing set \n"
   ]
  },
  {
   "cell_type": "code",
   "execution_count": null,
   "metadata": {},
   "outputs": [],
   "source": [
    "# What can we see? \n",
    "\n",
    "# What would you do to improve the model? "
   ]
  },
  {
   "cell_type": "markdown",
   "metadata": {},
   "source": [
    "This is the end of this project section.\n",
    "\n",
    "Thank you for sticking with us and we hope you learned and enjoyed the course!"
   ]
  }
 ],
 "metadata": {
  "kernelspec": {
   "display_name": "Python 3",
   "language": "python",
   "name": "python3"
  },
  "language_info": {
   "codemirror_mode": {
    "name": "ipython",
    "version": 3
   },
   "file_extension": ".py",
   "mimetype": "text/x-python",
   "name": "python",
   "nbconvert_exporter": "python",
   "pygments_lexer": "ipython3",
   "version": "3.9.6"
  }
 },
 "nbformat": 4,
 "nbformat_minor": 2
}
