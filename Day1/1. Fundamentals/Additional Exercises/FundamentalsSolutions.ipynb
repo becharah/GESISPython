{
 "cells": [
  {
   "cell_type": "code",
   "execution_count": null,
   "metadata": {
    "colab": {
     "base_uri": "https://localhost:8080/",
     "height": 51
    },
    "id": "FTJLGjIPcIzN",
    "outputId": "0fb22d5b-c3e4-4355-d972-66e10a94a653"
   },
   "outputs": [
    {
     "name": "stdout",
     "output_type": "stream",
     "text": [
      "Enter temperature in celsius: 4\n",
      "39.2\n"
     ]
    }
   ],
   "source": [
    "# Write a program that asks for the templerature in Celsius and converts it to Fahrenheit.\n",
    "\n",
    "celsius = float(input(\"Enter temperature in celsius: \"))\n",
    "fahrenheit = (celsius * 9/5) + 32\n",
    "print(fahrenheit)"
   ]
  },
  {
   "cell_type": "code",
   "execution_count": null,
   "metadata": {
    "colab": {
     "base_uri": "https://localhost:8080/",
     "height": 68
    },
    "id": "7XojQyUxdKi_",
    "outputId": "b8c91a81-f3b4-4086-97f1-0b40c73e81da"
   },
   "outputs": [
    {
     "name": "stdout",
     "output_type": "stream",
     "text": [
      "How many sides does the die have? 12\n",
      "Roll'em bones...\n",
      "5\n"
     ]
    }
   ],
   "source": [
    "#Write a program that asks for the type of die to roll and rolls it\n",
    "import random\n",
    "min = 1\n",
    "max = int(input(\"How many sides does the die have? \"))\n",
    "\n",
    "print(\"Roll'em bones...\") #This is just me adding fluff\n",
    "print(random.randint(min, max)) # This generates a number between 1 and the number of sides the die has"
   ]
  },
  {
   "cell_type": "code",
   "execution_count": 1,
   "metadata": {
    "colab": {
     "base_uri": "https://localhost:8080/"
    },
    "id": "gynfXkRbfx3f",
    "outputId": "fcc68b42-d091-47bc-bcc2-01e73a52913d"
   },
   "outputs": [
    {
     "name": "stdout",
     "output_type": "stream",
     "text": [
      "Enter the length of side a: 5\n",
      "Enter the length of side b: 4\n",
      "6.4031242374328485\n"
     ]
    }
   ],
   "source": [
    " #Write a program that solves pythagoras theorem\n",
    " import math\n",
    " a = int(input(\"Enter the length of side a: \"))\n",
    " b = int(input(\"Enter the length of side b: \"))\n",
    " c = math.sqrt(a *a + b*b)\n",
    " print(c)"
   ]
  },
  {
   "cell_type": "code",
   "execution_count": null,
   "metadata": {
    "colab": {
     "base_uri": "https://localhost:8080/",
     "height": 68
    },
    "id": "PuIj5P42Mvpx",
    "outputId": "f1faaf45-e20b-47fc-8fcf-54409aa39895"
   },
   "outputs": [
    {
     "name": "stdout",
     "output_type": "stream",
     "text": [
      "Enter the length of side a: 2\n",
      "Enter the length of side b: 4\n",
      "Hypotenuse is: 4.47213595499958\n"
     ]
    }
   ],
   "source": [
    "# Alternate solution for using pythagorean theorem to calculate the hypotenuse of a triangle (Allison)\n",
    "\n",
    "import math\n",
    "from math import hypot \n",
    "\n",
    "p = int(input(\"Enter the length of side a: \"))\n",
    "b = int(input(\"Enter the length of side b: \"))\n",
    "  \n",
    "print(\"Hypotenuse is:\", hypot(p, b)) \n"
   ]
  }
 ],
 "metadata": {
  "colab": {
   "name": "Lesson 1 Solutions.ipynb",
   "provenance": []
  },
  "kernelspec": {
   "display_name": "Python 3 (ipykernel)",
   "language": "python",
   "name": "python3"
  },
  "language_info": {
   "codemirror_mode": {
    "name": "ipython",
    "version": 3
   },
   "file_extension": ".py",
   "mimetype": "text/x-python",
   "name": "python",
   "nbconvert_exporter": "python",
   "pygments_lexer": "ipython3",
   "version": "3.9.12"
  }
 },
 "nbformat": 4,
 "nbformat_minor": 1
}
