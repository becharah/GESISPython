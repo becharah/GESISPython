{
 "cells": [
  {
   "cell_type": "markdown",
   "metadata": {
    "colab_type": "text",
    "id": "view-in-github"
   },
   "source": [
    "<a href=\"https://colab.research.google.com/github/hbechara/PythonProg/blob/main/1.Fundamentals/ClassroomExamples.ipynb\" target=\"_parent\"><img src=\"https://colab.research.google.com/assets/colab-badge.svg\" alt=\"Open In Colab\"/></a>"
   ]
  },
  {
   "cell_type": "code",
   "execution_count": null,
   "metadata": {
    "colab": {
     "base_uri": "https://localhost:8080/"
    },
    "id": "i4Vh52lYHKiQ",
    "outputId": "b1438505-6d92-4f00-c2c6-b74c3fd523ed"
   },
   "outputs": [
    {
     "name": "stdout",
     "output_type": "stream",
     "text": [
      "Hello and welcome to PP\n"
     ]
    }
   ],
   "source": [
    "print(\"Hello and welcome to PP\")"
   ]
  },
  {
   "cell_type": "code",
   "execution_count": null,
   "metadata": {
    "colab": {
     "base_uri": "https://localhost:8080/"
    },
    "id": "XFGMKc4bJCpJ",
    "outputId": "ec3397dd-0be0-48c4-c330-4dc3f2694bce"
   },
   "outputs": [
    {
     "name": "stdout",
     "output_type": "stream",
     "text": [
      "This is the first of the strings\n",
      "This is the second\n"
     ]
    }
   ],
   "source": [
    "print(\"This is the first of the strings\", \"This is the second\", sep = \"\\n\",end=\"\\n\")"
   ]
  },
  {
   "cell_type": "code",
   "execution_count": null,
   "metadata": {
    "colab": {
     "base_uri": "https://localhost:8080/"
    },
    "id": "FQ-Nl7uALDi-",
    "outputId": "4fe93a70-614e-44de-af10-df1edca0408b"
   },
   "outputs": [
    {
     "name": "stdout",
     "output_type": "stream",
     "text": [
      "One string to rule them all\n",
      "One,string,to,find,them!One\n",
      "string\n",
      "to\n",
      "bring\n",
      "them\n",
      "all:)And\tin\tthe\tdarkness\tbind\tthem\n"
     ]
    }
   ],
   "source": [
    "print(\"One\",\"string\",\"to\",\"rule\",\"them\",\"all\",sep=' ',end='\\n')\n",
    "print(\"One\",\"string\",\"to\",\"find\",\"them\", sep=',',end='!')\n",
    "print(\"One\",\"string\",\"to\",\"bring\",\"them\",\"all\",sep='\\n',end=':)')\n",
    "print(\"And\",\"in\",\"the\",\"darkness\",\"bind\",\"them\",sep='\\t',end='\\n')"
   ]
  },
  {
   "cell_type": "code",
   "execution_count": null,
   "metadata": {
    "colab": {
     "base_uri": "https://localhost:8080/"
    },
    "id": "K2-HoA3TLTO3",
    "outputId": "1ee11a43-166f-4ea5-c5c6-d8ff1d814396"
   },
   "outputs": [
    {
     "name": "stdout",
     "output_type": "stream",
     "text": [
      "Please enter your name:Hannah\n",
      "Hannah\n",
      "name\n"
     ]
    }
   ],
   "source": [
    "name = input(\"Please enter your name:\")\n",
    "\n",
    "print(name)\n",
    "print(\"name\")"
   ]
  },
  {
   "cell_type": "code",
   "execution_count": null,
   "metadata": {
    "colab": {
     "base_uri": "https://localhost:8080/"
    },
    "id": "fe4XtTpKMnyX",
    "outputId": "4b457a99-2e92-4366-c9aa-331d5426f9a5"
   },
   "outputs": [
    {
     "data": {
      "text/plain": [
       "int"
      ]
     },
     "execution_count": 14,
     "metadata": {},
     "output_type": "execute_result"
    }
   ],
   "source": [
    "myinteger = 1\n",
    "type(myinteger) "
   ]
  },
  {
   "cell_type": "code",
   "execution_count": null,
   "metadata": {
    "id": "dfXBs3bKNeMI"
   },
   "outputs": [],
   "source": [
    "print(notmygreeting)"
   ]
  },
  {
   "cell_type": "code",
   "execution_count": null,
   "metadata": {
    "id": "8SHZJ5Z1OsYX"
   },
   "outputs": [],
   "source": [
    "#Solution\n",
    "\n",
    "yourname = input(\"What is your name?\")\n",
    "print(\"Your name is: \" + yourname)"
   ]
  },
  {
   "cell_type": "code",
   "execution_count": null,
   "metadata": {
    "colab": {
     "base_uri": "https://localhost:8080/"
    },
    "id": "3c5IAzIvPqHW",
    "outputId": "6b087c24-b984-434e-ce71-c409f3b983d7"
   },
   "outputs": [
    {
     "name": "stdout",
     "output_type": "stream",
     "text": [
      "2 1\n"
     ]
    }
   ],
   "source": [
    "a = \"1\"\n",
    "b = \"2\"\n",
    "temp = a\n",
    "a = b\n",
    "b = temp \n",
    "print (a, b)"
   ]
  },
  {
   "cell_type": "code",
   "execution_count": null,
   "metadata": {
    "id": "7nRrUlCyQAyk"
   },
   "outputs": [],
   "source": [
    "a,b = b,a"
   ]
  },
  {
   "cell_type": "code",
   "execution_count": null,
   "metadata": {
    "id": "W1o8oKY6QOKj"
   },
   "outputs": [],
   "source": [
    "# how to swap the values of two variables\n",
    "a = int(input(\"Enter the first number:\"))\n",
    "b = int(input(\"Enter the second number:\"))\n",
    "print(\"Before swap: a=\", a, \" b=\", b, sep=\"\")\n",
    "tmp = a\n",
    "a = b\n",
    "b = tmp\n",
    "print(\"After swap a=\", a, \" b=\", b, sep=\"\")"
   ]
  },
  {
   "cell_type": "code",
   "execution_count": null,
   "metadata": {
    "id": "5fEdQgzLQbb4"
   },
   "outputs": [],
   "source": [
    "condition = True \n",
    "other_condition = False"
   ]
  },
  {
   "cell_type": "code",
   "execution_count": null,
   "metadata": {
    "colab": {
     "base_uri": "https://localhost:8080/"
    },
    "id": "cqGjs3TJQic9",
    "outputId": "18c04c74-9352-4523-b7cc-3b3aa2f8fede"
   },
   "outputs": [
    {
     "data": {
      "text/plain": [
       "False"
      ]
     },
     "execution_count": 22,
     "metadata": {},
     "output_type": "execute_result"
    }
   ],
   "source": [
    "other_condition and other_condition"
   ]
  },
  {
   "cell_type": "code",
   "execution_count": null,
   "metadata": {
    "colab": {
     "base_uri": "https://localhost:8080/"
    },
    "id": "ERXvulRJRj_E",
    "outputId": "506ae818-177e-402d-aa5e-d6c8b3cfed00"
   },
   "outputs": [
    {
     "data": {
      "text/plain": [
       "13"
      ]
     },
     "execution_count": 24,
     "metadata": {},
     "output_type": "execute_result"
    }
   ],
   "source": [
    "a = 12 \n",
    "b = 1\n",
    "a + b"
   ]
  },
  {
   "cell_type": "code",
   "execution_count": null,
   "metadata": {
    "colab": {
     "base_uri": "https://localhost:8080/"
    },
    "id": "Tb8frtASRzjM",
    "outputId": "b123a4a0-b74c-4fec-8275-5a6043792007"
   },
   "outputs": [
    {
     "name": "stdout",
     "output_type": "stream",
     "text": [
      "Please enter the first number12\n",
      "Please enter the second number12\n"
     ]
    },
    {
     "data": {
      "text/plain": [
       "24"
      ]
     },
     "execution_count": 25,
     "metadata": {},
     "output_type": "execute_result"
    }
   ],
   "source": [
    "a = int(input(\"Please enter the first number\"))\n",
    "b = int(input(\"Please enter the second number\"))\n",
    "\n",
    "a + b"
   ]
  },
  {
   "cell_type": "code",
   "execution_count": null,
   "metadata": {
    "colab": {
     "base_uri": "https://localhost:8080/"
    },
    "id": "LqSnfWOuSzc-",
    "outputId": "c533d40a-ee1b-4258-c59c-f1ede7a5c38c"
   },
   "outputs": [
    {
     "name": "stdout",
     "output_type": "stream",
     "text": [
      "this is a \n",
      " \"string\"\n"
     ]
    }
   ],
   "source": [
    "string = \"this is a \\n \\\"string\\\"\"\n",
    "print(string)"
   ]
  },
  {
   "cell_type": "code",
   "execution_count": null,
   "metadata": {
    "colab": {
     "base_uri": "https://localhost:8080/"
    },
    "id": "fxUZcsmtTK3a",
    "outputId": "ed66f6b9-eedd-4af6-f373-cd78ce236735"
   },
   "outputs": [
    {
     "name": "stdout",
     "output_type": "stream",
     "text": [
      "THIS IS A \n",
      " \"STRING\"\n"
     ]
    }
   ],
   "source": [
    "string2 = string.upper()\n",
    "print(string2)"
   ]
  },
  {
   "cell_type": "code",
   "execution_count": null,
   "metadata": {
    "colab": {
     "base_uri": "https://localhost:8080/"
    },
    "id": "fxeT09G1Ty4H",
    "outputId": "c981390a-1af3-4edb-cdb1-251bbfe1794c"
   },
   "outputs": [
    {
     "name": "stdout",
     "output_type": "stream",
     "text": [
      "THAT IS A \n",
      " \"STRING\"\n"
     ]
    }
   ],
   "source": [
    "string3 = string2.replace(\"THIS\", \"THAT\")\n",
    "print(string3)"
   ]
  },
  {
   "cell_type": "markdown",
   "metadata": {
    "id": "W4ayFYSMVPu2"
   },
   "source": [
    "\n",
    "  \n",
    "\n",
    "Exercise 1:\n",
    "\n",
    "Create a program that asks the user to enter their name and their age. Print out a message addressed to them that tells them the year that they will turn 100 years old.\n",
    "\n",
    "\n",
    "\n",
    "Exercise 2: Spell Checker\n",
    "\n",
    "Write a program that presents this sentence to the user: This sentens has a spelling error in it Prompt the user to correct the sentence word by word by typing in the word they want corrected, followed by the correct version. E.g. sentens sentence Echo the corrected sentence back to the user.\n"
   ]
  },
  {
   "cell_type": "code",
   "execution_count": null,
   "metadata": {
    "colab": {
     "base_uri": "https://localhost:8080/"
    },
    "id": "F3jRQLgXVWS4",
    "outputId": "d8437de6-bb32-4749-b44c-c4e0351f9fc5"
   },
   "outputs": [
    {
     "name": "stdout",
     "output_type": "stream",
     "text": [
      "The following sentence has an error. Follow the directions to fix it: This sentens has a spelling error in it.\n",
      "\n",
      " What word would you like to replace?sentens\n",
      "\n",
      " What word would you like instead?sentence\n",
      "\n",
      "sHere's the corrected sentence: This sentence has a spelling error in it.\n"
     ]
    }
   ],
   "source": [
    "text= \"This sentens has a spelling error in it.\"\n",
    "\n",
    "print (\"The following sentence has an error. Follow the directions to fix it:\" , text)\n",
    "\n",
    "\n",
    "error= input(\"\\n What word would you like to replace?\")\n",
    "\n",
    "insert=input(\"\\n What word would you like instead?\")\n",
    "\n",
    "text_edit=text.replace(error, insert)\n",
    "\n",
    "print (\"\\nHere's the corrected sentence:\", text_edit)"
   ]
  },
  {
   "cell_type": "code",
   "execution_count": null,
   "metadata": {
    "id": "q323Rq1RW1PM"
   },
   "outputs": [],
   "source": [
    "string = \"This sentens has a spelling error in it\"\n",
    "\n",
    "print(string)\n",
    "\n",
    "string2= string.replace(input('Please insert the wrong word: '), input('Please insert the correct word: '))\n",
    "\n",
    "print(string2)"
   ]
  }
 ],
 "metadata": {
  "colab": {
   "collapsed_sections": [],
   "include_colab_link": true,
   "name": "ClassroomExamples.ipynb",
   "provenance": []
  },
  "kernelspec": {
   "display_name": "Python 3 (ipykernel)",
   "language": "python",
   "name": "python3"
  },
  "language_info": {
   "codemirror_mode": {
    "name": "ipython",
    "version": 3
   },
   "file_extension": ".py",
   "mimetype": "text/x-python",
   "name": "python",
   "nbconvert_exporter": "python",
   "pygments_lexer": "ipython3",
   "version": "3.11.5"
  }
 },
 "nbformat": 4,
 "nbformat_minor": 1
}
