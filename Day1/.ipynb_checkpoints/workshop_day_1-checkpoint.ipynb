{
 "cells": [
  {
   "cell_type": "markdown",
   "metadata": {},
   "source": [
    "1. Create a string that has every letter of the alphabet, and save it a variable named \"aleph\""
   ]
  },
  {
   "cell_type": "code",
   "execution_count": 42,
   "metadata": {},
   "outputs": [],
   "source": [
    "# your code here\n"
   ]
  },
  {
   "cell_type": "markdown",
   "metadata": {},
   "source": [
    "2. What is the length of the aleph string?"
   ]
  },
  {
   "cell_type": "code",
   "execution_count": null,
   "metadata": {},
   "outputs": [],
   "source": [
    "# your code here\n"
   ]
  },
  {
   "cell_type": "markdown",
   "metadata": {},
   "source": [
    "3a. What is the first character?\n",
    "\n",
    "3b. Which character is in the middle index? (Hint: for even numbers use /, for odd numbers use //)"
   ]
  },
  {
   "cell_type": "code",
   "execution_count": null,
   "metadata": {},
   "outputs": [],
   "source": [
    "# your code here"
   ]
  },
  {
   "cell_type": "markdown",
   "metadata": {},
   "source": [
    "3c. Create a new string made of the middle three characters of the aleph string. Name it \"middle\""
   ]
  },
  {
   "cell_type": "code",
   "execution_count": null,
   "metadata": {},
   "outputs": [],
   "source": [
    "# your code here\n"
   ]
  },
  {
   "cell_type": "markdown",
   "metadata": {},
   "source": [
    "4a. Create a string with your name last name. Save it as \"name\".\n",
    "\n",
    "4b. Create another string with your middle name. Save it as \"middle\" (If you don't have one, make one up)\n",
    "\n",
    "4c. Find the index of the space between your first name and last name. Save that as idx.\n",
    "\n",
    "4d. Append your middle name in the right place of your first name string.\n",
    "\n",
    "Question: What is missing? How can we solve it?"
   ]
  },
  {
   "cell_type": "code",
   "execution_count": null,
   "metadata": {},
   "outputs": [],
   "source": [
    "# your code here"
   ]
  },
  {
   "cell_type": "markdown",
   "metadata": {},
   "source": [
    "5a. Set all the letters to lower case in the text below.\n",
    "\n",
    "5b. Now set them all to upper case.\n",
    "\n",
    "5c. Count all the times the letter t occurs in the text."
   ]
  },
  {
   "cell_type": "code",
   "execution_count": 66,
   "metadata": {},
   "outputs": [],
   "source": [
    "text = '''Good morning everyone!\n",
    "        Today is September 3, and this is...\n",
    "        the first time using a jupyter notebook for me :)\n",
    "        I hope it's going well <3.'''\n",
    "        \n",
    "# your code here"
   ]
  },
  {
   "cell_type": "markdown",
   "metadata": {},
   "source": [
    "6a. Find the 4 element of the list.\n",
    "\n",
    "6b. What are the odd elements of list?\n",
    "\n",
    "6c. What are the even elements of the list?"
   ]
  },
  {
   "cell_type": "code",
   "execution_count": null,
   "metadata": {},
   "outputs": [],
   "source": [
    "my_list = [3, 6, 9, 12, 15, 18, 21]\n",
    "\n",
    "# your code here\n"
   ]
  },
  {
   "cell_type": "markdown",
   "metadata": {},
   "source": [
    "7. Create a new list that is composed by the even number of the two lists. "
   ]
  },
  {
   "cell_type": "code",
   "execution_count": null,
   "metadata": {},
   "outputs": [],
   "source": [
    "my_list = [3, 6, 9, 12, 15, 18, 21]\n",
    "your_list = [4, 8, 12, 16, 20, 24, 28]\n",
    "\n",
    "# your code here\n"
   ]
  },
  {
   "cell_type": "markdown",
   "metadata": {},
   "source": [
    "8. Create a set that is the elements of each list together by index.\n",
    "It should look like this: {(3, 4), (6, 8), (9, 12), (12, 16),... }"
   ]
  },
  {
   "cell_type": "code",
   "execution_count": null,
   "metadata": {},
   "outputs": [],
   "source": [
    "# your code here\n"
   ]
  },
  {
   "cell_type": "markdown",
   "metadata": {},
   "source": [
    "9a. Find the lyrics to the song \"Drive my car\" by The Beatles\n",
    "\n",
    "9b. Save the first verse as a string.\n",
    "\n",
    "9c. Save the chorus as another string.\n",
    "\n",
    "9d. Save the second verse as a string.\n",
    "\n",
    "9e. Create a list with all three strings. Name it \"song\""
   ]
  },
  {
   "cell_type": "code",
   "execution_count": 117,
   "metadata": {},
   "outputs": [],
   "source": [
    "# your code here\n"
   ]
  },
  {
   "cell_type": "markdown",
   "metadata": {},
   "source": [
    "For question 10 - 12 you can only use list indexing to access the strings.\n",
    "\n",
    "10a. What is the length of the list?\n",
    "\n",
    "10b. What is the 9th character of the second verse?\n",
    "\n",
    "10c. How many times does the word \"car\" appear in the chorus?"
   ]
  },
  {
   "cell_type": "code",
   "execution_count": null,
   "metadata": {},
   "outputs": [],
   "source": [
    "# your code here\n"
   ]
  },
  {
   "cell_type": "markdown",
   "metadata": {},
   "source": [
    "11. Replace \"car\" in the chorus with \"van\"."
   ]
  },
  {
   "cell_type": "code",
   "execution_count": null,
   "metadata": {},
   "outputs": [],
   "source": [
    "# your code here\n"
   ]
  },
  {
   "cell_type": "markdown",
   "metadata": {},
   "source": [
    "12a. Split the first verse into a list of words.\n",
    "\n",
    "12b. How many words are in the first verse?"
   ]
  },
  {
   "cell_type": "code",
   "execution_count": null,
   "metadata": {},
   "outputs": [],
   "source": [
    "# your code here\n"
   ]
  },
  {
   "cell_type": "markdown",
   "metadata": {},
   "source": [
    "13. Append the chorus again to the end of the song. "
   ]
  },
  {
   "cell_type": "code",
   "execution_count": 118,
   "metadata": {},
   "outputs": [],
   "source": [
    "# your code here\n"
   ]
  },
  {
   "cell_type": "markdown",
   "metadata": {},
   "source": [
    "14. Oops! You made a mistake, you actually didn't want to append that. Remove the last chorus in the song list. "
   ]
  },
  {
   "cell_type": "code",
   "execution_count": null,
   "metadata": {
    "scrolled": true
   },
   "outputs": [],
   "source": [
    "# your code here\n"
   ]
  },
  {
   "cell_type": "markdown",
   "metadata": {},
   "source": [
    "15a. Create a list with all the names of your imaginary pets. (You have 7)\n",
    "\n",
    "15b. What is the first name on the list? What is the last name on the list?"
   ]
  },
  {
   "cell_type": "code",
   "execution_count": null,
   "metadata": {},
   "outputs": [],
   "source": [
    "# your code here"
   ]
  },
  {
   "cell_type": "markdown",
   "metadata": {},
   "source": [
    "16a. Oops! You forgot your pet lizard Spike!! Please insert Spike as your 4th pet.\n",
    "\n",
    "16b. Actually, the 5th pet on your list, is your cousin's. Please remove them from the list."
   ]
  },
  {
   "cell_type": "code",
   "execution_count": 131,
   "metadata": {},
   "outputs": [],
   "source": [
    "# your code here\n"
   ]
  },
  {
   "cell_type": "markdown",
   "metadata": {},
   "source": [
    "17. Now, order your pets in alphabetical order."
   ]
  },
  {
   "cell_type": "code",
   "execution_count": 134,
   "metadata": {},
   "outputs": [],
   "source": [
    "# your code here\n"
   ]
  },
  {
   "cell_type": "markdown",
   "metadata": {},
   "source": [
    "18. Can you try reverse alphabetical order?"
   ]
  },
  {
   "cell_type": "code",
   "execution_count": 137,
   "metadata": {},
   "outputs": [],
   "source": [
    "# your code here\n"
   ]
  },
  {
   "cell_type": "markdown",
   "metadata": {},
   "source": [
    "19a. Create a dictionary that is the name of four countries in Latin America and their year of independence.\n",
    "\n",
    "19b. Print only the keys\n",
    "\n",
    "19c. Print only the values\n",
    "\n",
    "19d. Print all the key value pairs"
   ]
  },
  {
   "cell_type": "code",
   "execution_count": null,
   "metadata": {},
   "outputs": [],
   "source": [
    "# your code here\n"
   ]
  },
  {
   "cell_type": "markdown",
   "metadata": {},
   "source": [
    "20a. Delete the last country in the list\n",
    "\n",
    "20b. Add a this new value: {'Mexico':1810}"
   ]
  },
  {
   "cell_type": "code",
   "execution_count": 149,
   "metadata": {},
   "outputs": [],
   "source": [
    "# your code here\n",
    "\n"
   ]
  },
  {
   "cell_type": "markdown",
   "metadata": {},
   "source": [
    "## Project introduction\n",
    "\n",
    "For the next four days we will work on a small group project to analyse social media comments about climate change. We will apply the fundamentals of python to this small research project, to get hands on experience."
   ]
  },
  {
   "cell_type": "code",
   "execution_count": null,
   "metadata": {},
   "outputs": [],
   "source": [
    "# where are we?\n",
    "!pwd"
   ]
  },
  {
   "cell_type": "code",
   "execution_count": 154,
   "metadata": {},
   "outputs": [],
   "source": [
    "# Let's open the text file that we will use for our project."
   ]
  },
  {
   "cell_type": "code",
   "execution_count": null,
   "metadata": {},
   "outputs": [],
   "source": [
    "# Let's print the text to see what it looks like."
   ]
  },
  {
   "cell_type": "code",
   "execution_count": 156,
   "metadata": {},
   "outputs": [],
   "source": [
    "# We should probably clean up the data. Let's remove hashtags and mentions.\n"
   ]
  },
  {
   "cell_type": "code",
   "execution_count": null,
   "metadata": {
    "collapsed": true
   },
   "outputs": [],
   "source": [
    "# Let's check if it worked\n"
   ]
  },
  {
   "cell_type": "code",
   "execution_count": null,
   "metadata": {},
   "outputs": [],
   "source": [
    "# Let's begin doing some analysis.\n",
    "# How many characters are in the text?\n"
   ]
  },
  {
   "cell_type": "code",
   "execution_count": null,
   "metadata": {},
   "outputs": [],
   "source": [
    "# Now let's count the number of words that we are interested in. \n",
    "\n",
    "# Is python a case sensitive programming language? \n",
    "\n",
    "# First, let's make all the text lowercase.\n"
   ]
  },
  {
   "cell_type": "code",
   "execution_count": 170,
   "metadata": {},
   "outputs": [],
   "source": [
    "# Now that everything is lowercaser,\n",
    "# How many times does the word \"climate\" appear in the text?\n",
    "\n",
    "\n",
    "# Let's count the words in the text.\n",
    "\n",
    "# Let's make a dictionary of words and their counts.\n",
    "\n"
   ]
  },
  {
   "cell_type": "code",
   "execution_count": null,
   "metadata": {},
   "outputs": [],
   "source": [
    "# Let's see what our dictionary looks like. What does this remind you of?\n"
   ]
  },
  {
   "cell_type": "code",
   "execution_count": 172,
   "metadata": {},
   "outputs": [],
   "source": [
    "# Now we are now going to split the text, so it's not all together as a string.\n",
    "\n",
    "# What is the demiliter?"
   ]
  },
  {
   "cell_type": "code",
   "execution_count": 65,
   "metadata": {},
   "outputs": [],
   "source": [
    "# based on the delimiter we found, let's split the text.\n",
    "\n",
    "# Rember when you use the split function, it returns a list; and the \"\\n\" is removed."
   ]
  },
  {
   "cell_type": "code",
   "execution_count": null,
   "metadata": {},
   "outputs": [],
   "source": [
    "# How many tweets are in our data?\n"
   ]
  },
  {
   "cell_type": "code",
   "execution_count": null,
   "metadata": {},
   "outputs": [],
   "source": [
    "# Let's see what our first value is. \n"
   ]
  },
  {
   "cell_type": "code",
   "execution_count": null,
   "metadata": {},
   "outputs": [],
   "source": [
    "# We know now the first line is the header, so let's remove it and count again.\n"
   ]
  },
  {
   "cell_type": "code",
   "execution_count": null,
   "metadata": {},
   "outputs": [],
   "source": [
    "# Is length of data the same as the length of the text?\n",
    "\n",
    "# Why? Why not?"
   ]
  },
  {
   "cell_type": "code",
   "execution_count": null,
   "metadata": {},
   "outputs": [],
   "source": [
    "# With this information, let's add an id to each tweet.\n",
    "# Let's make a list of numbers, and we will use 0 for the header.\n",
    "\n",
    "# First let's figure our how many IDs we need.\n",
    "\n",
    "\n",
    "# Now let's use range to create a sequence of numbers.\n",
    "\n",
    "\n",
    "# We can now save them as a list using the list function.\n",
    "\n",
    "# All together now:\n",
    "\n",
    "\n",
    "# Are they the same?\n"
   ]
  },
  {
   "cell_type": "code",
   "execution_count": null,
   "metadata": {},
   "outputs": [],
   "source": [
    "# We can now create a dictionary with the IDs and the tweets.\n",
    "# Let's create a dictionary with the IDs as keys.\n",
    "# What is the dictionary going to look like?\n",
    "\n",
    "# {.......}\n",
    "\n",
    "\n",
    "# Does anyone remember a quick way to reproduce this output?"
   ]
  },
  {
   "cell_type": "code",
   "execution_count": 189,
   "metadata": {},
   "outputs": [],
   "source": [
    "# Zip! It will match index 0 with index 0, index 1 with index 1, etc.\n",
    "\n"
   ]
  },
  {
   "cell_type": "code",
   "execution_count": null,
   "metadata": {
    "collapsed": true
   },
   "outputs": [],
   "source": [
    "# Let's turn this into a pandas dataframe.\n"
   ]
  },
  {
   "cell_type": "code",
   "execution_count": null,
   "metadata": {},
   "outputs": [],
   "source": [
    "# For now, we will stop our analysis here. Let's save our data as a csv file.\n",
    "# Let's import the pandas module.\n"
   ]
  },
  {
   "cell_type": "markdown",
   "metadata": {},
   "source": [
    "## Congratulations! You have succesfully create a csv file in Python!"
   ]
  }
 ],
 "metadata": {
  "kernelspec": {
   "display_name": "Python 3 (ipykernel)",
   "language": "python",
   "name": "python3"
  },
  "language_info": {
   "codemirror_mode": {
    "name": "ipython",
    "version": 3
   },
   "file_extension": ".py",
   "mimetype": "text/x-python",
   "name": "python",
   "nbconvert_exporter": "python",
   "pygments_lexer": "ipython3",
   "version": "3.11.5"
  }
 },
 "nbformat": 4,
 "nbformat_minor": 2
}
